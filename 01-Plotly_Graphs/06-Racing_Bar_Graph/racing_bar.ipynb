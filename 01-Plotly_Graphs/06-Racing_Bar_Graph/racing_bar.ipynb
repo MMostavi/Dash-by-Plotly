{
 "cells": [
  {
   "cell_type": "code",
   "execution_count": 1,
   "metadata": {},
   "outputs": [],
   "source": [
    "# https://plotly.com/python/reference/#bar"
   ]
  },
  {
   "cell_type": "code",
   "execution_count": 12,
   "metadata": {},
   "outputs": [
    {
     "data": {
      "text/plain": [
       "Africa                   1456\n",
       "Europe                   1428\n",
       "Americas                  980\n",
       "South-East Asia           532\n",
       "Eastern Mediterranean     504\n",
       "Western Pacific           476\n",
       "Name: region, dtype: int64"
      ]
     },
     "execution_count": 12,
     "metadata": {},
     "output_type": "execute_result"
    }
   ],
   "source": [
    "import pandas as pd     #(version 1.0.0)\n",
    "import plotly           #(version 4.5.0)\n",
    "import plotly.io as pio\n",
    "import plotly.graph_objects as go\n",
    "\n",
    "import warnings\n",
    "warnings.filterwarnings(\"ignore\", category=FutureWarning)\n",
    "\n",
    "# Data from http://ghdx.healthdata.org/gbd-results-tool\n",
    "df = pd.read_csv(\"suicide-rate-1990-2017.csv\")\n",
    "df.region.value_counts()"
   ]
  },
  {
   "cell_type": "code",
   "execution_count": 19,
   "metadata": {},
   "outputs": [],
   "source": [
    "# creating a dict that contains dataframes with key of different years and sorted dataframe in each\n",
    "dict_keys=['one','two','three','four','five','six','seven','eight','nine','ten','eleven','twelve','thirteen',\n",
    "           'fourteen','fifteen','sixteen','seventeen','eighteen','nineteen','twenty','twentyone','twentytwo',\n",
    "           'twentythree','twentyfour','twentyfive','twentysix','twentyseven','twentyeight']\n",
    "\n",
    "years=[1990,1991,1992,1993,1994,1995,1996,1997,1998,1999,2000,2001,2002,2003,\n",
    "       2004,2005,2006,2007,2008,2009,2010,2011,2012,2013,2014,2015,2016,2017]\n",
    "\n",
    "n_frame={}\n",
    "\n",
    "for y, d in zip(years, dict_keys):\n",
    "    dataframe=df[(df['year']==y)&(df['region']=='Africa')]\n",
    "    dataframe=dataframe.nlargest(n=5,columns=['suicide rate (deaths per 100,000)'])\n",
    "    dataframe=dataframe.sort_values(by=['year','suicide rate (deaths per 100,000)'])\n",
    "\n",
    "    n_frame[d]=dataframe\n"
   ]
  },
  {
   "cell_type": "code",
   "execution_count": 20,
   "metadata": {},
   "outputs": [
    {
     "data": {
      "text/html": [
       "<div>\n",
       "<style scoped>\n",
       "    .dataframe tbody tr th:only-of-type {\n",
       "        vertical-align: middle;\n",
       "    }\n",
       "\n",
       "    .dataframe tbody tr th {\n",
       "        vertical-align: top;\n",
       "    }\n",
       "\n",
       "    .dataframe thead th {\n",
       "        text-align: right;\n",
       "    }\n",
       "</style>\n",
       "<table border=\"1\" class=\"dataframe\">\n",
       "  <thead>\n",
       "    <tr style=\"text-align: right;\">\n",
       "      <th></th>\n",
       "      <th>country</th>\n",
       "      <th>code</th>\n",
       "      <th>year</th>\n",
       "      <th>suicide rate (deaths per 100,000)</th>\n",
       "      <th>color_code</th>\n",
       "      <th>region</th>\n",
       "    </tr>\n",
       "  </thead>\n",
       "  <tbody>\n",
       "    <tr>\n",
       "      <th>1625</th>\n",
       "      <td>Ethiopia</td>\n",
       "      <td>ETH</td>\n",
       "      <td>1991</td>\n",
       "      <td>19.289464</td>\n",
       "      <td>#800000</td>\n",
       "      <td>Africa</td>\n",
       "    </tr>\n",
       "    <tr>\n",
       "      <th>785</th>\n",
       "      <td>Burundi</td>\n",
       "      <td>BDI</td>\n",
       "      <td>1991</td>\n",
       "      <td>20.170219</td>\n",
       "      <td>#FFFF00</td>\n",
       "      <td>Africa</td>\n",
       "    </tr>\n",
       "    <tr>\n",
       "      <th>1569</th>\n",
       "      <td>Eritrea</td>\n",
       "      <td>ERI</td>\n",
       "      <td>1991</td>\n",
       "      <td>21.164373</td>\n",
       "      <td>#00FFFF</td>\n",
       "      <td>Africa</td>\n",
       "    </tr>\n",
       "    <tr>\n",
       "      <th>4005</th>\n",
       "      <td>Rwanda</td>\n",
       "      <td>RWA</td>\n",
       "      <td>1991</td>\n",
       "      <td>22.686871</td>\n",
       "      <td>#0000FF</td>\n",
       "      <td>Africa</td>\n",
       "    </tr>\n",
       "    <tr>\n",
       "      <th>2717</th>\n",
       "      <td>Lesotho</td>\n",
       "      <td>LSO</td>\n",
       "      <td>1991</td>\n",
       "      <td>23.381605</td>\n",
       "      <td>#FFFFCC</td>\n",
       "      <td>Africa</td>\n",
       "    </tr>\n",
       "  </tbody>\n",
       "</table>\n",
       "</div>"
      ],
      "text/plain": [
       "       country code  year  suicide rate (deaths per 100,000) color_code  \\\n",
       "1625  Ethiopia  ETH  1991                          19.289464    #800000   \n",
       "785    Burundi  BDI  1991                          20.170219    #FFFF00   \n",
       "1569   Eritrea  ERI  1991                          21.164373    #00FFFF   \n",
       "4005    Rwanda  RWA  1991                          22.686871    #0000FF   \n",
       "2717   Lesotho  LSO  1991                          23.381605    #FFFFCC   \n",
       "\n",
       "      region  \n",
       "1625  Africa  \n",
       "785   Africa  \n",
       "1569  Africa  \n",
       "4005  Africa  \n",
       "2717  Africa  "
      ]
     },
     "execution_count": 20,
     "metadata": {},
     "output_type": "execute_result"
    }
   ],
   "source": [
    "n_frame['two']"
   ]
  },
  {
   "cell_type": "code",
   "execution_count": 21,
   "metadata": {},
   "outputs": [
    {
     "data": {
      "application/vnd.plotly.v1+json": {
       "config": {
        "plotlyServerURL": "https://plot.ly"
       },
       "data": [
        {
         "insidetextanchor": "middle",
         "marker": {
          "color": [
           "#800000",
           "#00FFFF",
           "#FFFF00",
           "#0000FF",
           "#FFFFCC"
          ]
         },
         "orientation": "h",
         "text": [
          19.32093546,
          19.95072819,
          20.27244424,
          22.16843796,
          24.12464833
         ],
         "textfont": {
          "size": 18
         },
         "textposition": "inside",
         "texttemplate": "%{text:.3s}",
         "type": "bar",
         "width": 0.9,
         "x": [
          19.32093546,
          19.95072819,
          20.27244424,
          22.16843796,
          24.12464833
         ],
         "y": [
          "Ethiopia",
          "Eritrea",
          "Burundi",
          "Rwanda",
          "Lesotho"
         ]
        }
       ],
       "frames": [
        {
         "data": [
          {
           "marker": {
            "color": [
             "#800000",
             "#00FFFF",
             "#FFFF00",
             "#0000FF",
             "#FFFFCC"
            ]
           },
           "orientation": "h",
           "text": [
            19.32093546,
            19.95072819,
            20.27244424,
            22.16843796,
            24.12464833
           ],
           "type": "bar",
           "x": [
            19.32093546,
            19.95072819,
            20.27244424,
            22.16843796,
            24.12464833
           ],
           "y": [
            "Ethiopia",
            "Eritrea",
            "Burundi",
            "Rwanda",
            "Lesotho"
           ]
          }
         ],
         "layout": {
          "title": {
           "font": {
            "size": 28
           },
           "text": "Suicide Rates per Country: 1990"
          },
          "xaxis": {
           "autorange": false,
           "range": [
            0,
            60
           ]
          },
          "yaxis": {
           "autorange": false,
           "range": [
            -0.5,
            5.5
           ],
           "tickfont": {
            "size": 14
           }
          }
         }
        },
        {
         "data": [
          {
           "marker": {
            "color": [
             "#800000",
             "#FFFF00",
             "#00FFFF",
             "#0000FF",
             "#FFFFCC"
            ]
           },
           "orientation": "h",
           "text": [
            19.2894636,
            20.17021873,
            21.16437309,
            22.68687066,
            23.38160465
           ],
           "type": "bar",
           "x": [
            19.2894636,
            20.17021873,
            21.16437309,
            22.68687066,
            23.38160465
           ],
           "y": [
            "Ethiopia",
            "Burundi",
            "Eritrea",
            "Rwanda",
            "Lesotho"
           ]
          }
         ],
         "layout": {
          "title": {
           "font": {
            "size": 28
           },
           "text": "Suicide Rates per Country: 1991"
          },
          "xaxis": {
           "autorange": false,
           "range": [
            0,
            60
           ]
          },
          "yaxis": {
           "autorange": false,
           "range": [
            -0.5,
            5.5
           ],
           "tickfont": {
            "size": 14
           }
          }
         }
        },
        {
         "data": [
          {
           "marker": {
            "color": [
             "#800000",
             "#FFFF00",
             "#00FFFF",
             "#FFFFCC",
             "#0000FF"
            ]
           },
           "orientation": "h",
           "text": [
            19.34147938,
            20.05588859,
            21.3902551,
            22.99778486,
            23.03586292
           ],
           "type": "bar",
           "x": [
            19.34147938,
            20.05588859,
            21.3902551,
            22.99778486,
            23.03586292
           ],
           "y": [
            "Ethiopia",
            "Burundi",
            "Eritrea",
            "Lesotho",
            "Rwanda"
           ]
          }
         ],
         "layout": {
          "title": {
           "font": {
            "size": 28
           },
           "text": "Suicide Rates per Country: 1992"
          },
          "xaxis": {
           "autorange": false,
           "range": [
            0,
            60
           ]
          },
          "yaxis": {
           "autorange": false,
           "range": [
            -0.5,
            5.5
           ],
           "tickfont": {
            "size": 14
           }
          }
         }
        },
        {
         "data": [
          {
           "marker": {
            "color": [
             "#800000",
             "#FFFF00",
             "#00FFFF",
             "#FFFFCC",
             "#0000FF"
            ]
           },
           "orientation": "h",
           "text": [
            19.23249197,
            20.23813227,
            21.54680948,
            22.6320656,
            22.95597295
           ],
           "type": "bar",
           "x": [
            19.23249197,
            20.23813227,
            21.54680948,
            22.6320656,
            22.95597295
           ],
           "y": [
            "Ethiopia",
            "Burundi",
            "Eritrea",
            "Lesotho",
            "Rwanda"
           ]
          }
         ],
         "layout": {
          "title": {
           "font": {
            "size": 28
           },
           "text": "Suicide Rates per Country: 1993"
          },
          "xaxis": {
           "autorange": false,
           "range": [
            0,
            60
           ]
          },
          "yaxis": {
           "autorange": false,
           "range": [
            -0.5,
            5.5
           ],
           "tickfont": {
            "size": 14
           }
          }
         }
        },
        {
         "data": [
          {
           "marker": {
            "color": [
             "#800000",
             "#FFFF00",
             "#00FFFF",
             "#FFFFCC",
             "#0000FF"
            ]
           },
           "orientation": "h",
           "text": [
            19.00656928,
            20.24589957,
            21.92987099,
            22.71166671,
            23.95154275
           ],
           "type": "bar",
           "x": [
            19.00656928,
            20.24589957,
            21.92987099,
            22.71166671,
            23.95154275
           ],
           "y": [
            "Ethiopia",
            "Burundi",
            "Eritrea",
            "Lesotho",
            "Rwanda"
           ]
          }
         ],
         "layout": {
          "title": {
           "font": {
            "size": 28
           },
           "text": "Suicide Rates per Country: 1994"
          },
          "xaxis": {
           "autorange": false,
           "range": [
            0,
            60
           ]
          },
          "yaxis": {
           "autorange": false,
           "range": [
            -0.5,
            5.5
           ],
           "tickfont": {
            "size": 14
           }
          }
         }
        },
        {
         "data": [
          {
           "marker": {
            "color": [
             "#FFFF00",
             "#CC99FF",
             "#00FFFF",
             "#FFFFCC",
             "#0000FF"
            ]
           },
           "orientation": "h",
           "text": [
            20.37238388,
            20.66954753,
            21.90895604,
            22.60269708,
            24.48229277
           ],
           "type": "bar",
           "x": [
            20.37238388,
            20.66954753,
            21.90895604,
            22.60269708,
            24.48229277
           ],
           "y": [
            "Burundi",
            "Zimbabwe",
            "Eritrea",
            "Lesotho",
            "Rwanda"
           ]
          }
         ],
         "layout": {
          "title": {
           "font": {
            "size": 28
           },
           "text": "Suicide Rates per Country: 1995"
          },
          "xaxis": {
           "autorange": false,
           "range": [
            0,
            60
           ]
          },
          "yaxis": {
           "autorange": false,
           "range": [
            -0.5,
            5.5
           ],
           "tickfont": {
            "size": 14
           }
          }
         }
        },
        {
         "data": [
          {
           "marker": {
            "color": [
             "#FFFF00",
             "#CC99FF",
             "#00FFFF",
             "#FFFFCC",
             "#0000FF"
            ]
           },
           "orientation": "h",
           "text": [
            20.72122312,
            21.147585999999997,
            22.41778222,
            22.77374224,
            24.30563437
           ],
           "type": "bar",
           "x": [
            20.72122312,
            21.147585999999997,
            22.41778222,
            22.77374224,
            24.30563437
           ],
           "y": [
            "Swaziland",
            "Zimbabwe",
            "Eritrea",
            "Lesotho",
            "Rwanda"
           ]
          }
         ],
         "layout": {
          "title": {
           "font": {
            "size": 28
           },
           "text": "Suicide Rates per Country: 1996"
          },
          "xaxis": {
           "autorange": false,
           "range": [
            0,
            60
           ]
          },
          "yaxis": {
           "autorange": false,
           "range": [
            -0.5,
            5.5
           ],
           "tickfont": {
            "size": 14
           }
          }
         }
        },
        {
         "data": [
          {
           "marker": {
            "color": [
             "#FFFF00",
             "#00FFFF",
             "#CC99FF",
             "#FFFFCC",
             "#0000FF"
            ]
           },
           "orientation": "h",
           "text": [
            21.37824416,
            22.03371024,
            22.55760607,
            23.41723983,
            23.98233362
           ],
           "type": "bar",
           "x": [
            21.37824416,
            22.03371024,
            22.55760607,
            23.41723983,
            23.98233362
           ],
           "y": [
            "Swaziland",
            "Eritrea",
            "Zimbabwe",
            "Lesotho",
            "Rwanda"
           ]
          }
         ],
         "layout": {
          "title": {
           "font": {
            "size": 28
           },
           "text": "Suicide Rates per Country: 1997"
          },
          "xaxis": {
           "autorange": false,
           "range": [
            0,
            60
           ]
          },
          "yaxis": {
           "autorange": false,
           "range": [
            -0.5,
            5.5
           ],
           "tickfont": {
            "size": 14
           }
          }
         }
        },
        {
         "data": [
          {
           "marker": {
            "color": [
             "#969696",
             "#FFFF00",
             "#0000FF",
             "#FFFFCC",
             "#CC99FF"
            ]
           },
           "orientation": "h",
           "text": [
            21.62348619,
            22.88162073,
            23.00328141,
            24.79737668,
            24.88439113
           ],
           "type": "bar",
           "x": [
            21.62348619,
            22.88162073,
            23.00328141,
            24.79737668,
            24.88439113
           ],
           "y": [
            "South Africa",
            "Swaziland",
            "Rwanda",
            "Lesotho",
            "Zimbabwe"
           ]
          }
         ],
         "layout": {
          "title": {
           "font": {
            "size": 28
           },
           "text": "Suicide Rates per Country: 1998"
          },
          "xaxis": {
           "autorange": false,
           "range": [
            0,
            60
           ]
          },
          "yaxis": {
           "autorange": false,
           "range": [
            -0.5,
            5.5
           ],
           "tickfont": {
            "size": 14
           }
          }
         }
        },
        {
         "data": [
          {
           "marker": {
            "color": [
             "#0000FF",
             "#969696",
             "#FFFF00",
             "#FFFFCC",
             "#CC99FF"
            ]
           },
           "orientation": "h",
           "text": [
            21.68609583,
            22.3857246,
            24.08416713,
            26.06427008,
            27.21299514
           ],
           "type": "bar",
           "x": [
            21.68609583,
            22.3857246,
            24.08416713,
            26.06427008,
            27.21299514
           ],
           "y": [
            "Rwanda",
            "South Africa",
            "Swaziland",
            "Lesotho",
            "Zimbabwe"
           ]
          }
         ],
         "layout": {
          "title": {
           "font": {
            "size": 28
           },
           "text": "Suicide Rates per Country: 1999"
          },
          "xaxis": {
           "autorange": false,
           "range": [
            0,
            60
           ]
          },
          "yaxis": {
           "autorange": false,
           "range": [
            -0.5,
            5.5
           ],
           "tickfont": {
            "size": 14
           }
          }
         }
        },
        {
         "data": [
          {
           "marker": {
            "color": [
             "#FF9900",
             "#969696",
             "#FFFF00",
             "#FFFFCC",
             "#CC99FF"
            ]
           },
           "orientation": "h",
           "text": [
            21.12433311,
            24.27009675,
            25.93823717,
            28.18131385,
            30.02623619
           ],
           "type": "bar",
           "x": [
            21.12433311,
            24.27009675,
            25.93823717,
            28.18131385,
            30.02623619
           ],
           "y": [
            "Namibia",
            "South Africa",
            "Swaziland",
            "Lesotho",
            "Zimbabwe"
           ]
          }
         ],
         "layout": {
          "title": {
           "font": {
            "size": 28
           },
           "text": "Suicide Rates per Country: 2000"
          },
          "xaxis": {
           "autorange": false,
           "range": [
            0,
            60
           ]
          },
          "yaxis": {
           "autorange": false,
           "range": [
            -0.5,
            5.5
           ],
           "tickfont": {
            "size": 14
           }
          }
         }
        },
        {
         "data": [
          {
           "marker": {
            "color": [
             "#FF9900",
             "#969696",
             "#FFFF00",
             "#FFFFCC",
             "#CC99FF"
            ]
           },
           "orientation": "h",
           "text": [
            20.72209178,
            23.00986622,
            27.46937498,
            28.97846481,
            31.70325081
           ],
           "type": "bar",
           "x": [
            20.72209178,
            23.00986622,
            27.46937498,
            28.97846481,
            31.70325081
           ],
           "y": [
            "Namibia",
            "South Africa",
            "Swaziland",
            "Lesotho",
            "Zimbabwe"
           ]
          }
         ],
         "layout": {
          "title": {
           "font": {
            "size": 28
           },
           "text": "Suicide Rates per Country: 2001"
          },
          "xaxis": {
           "autorange": false,
           "range": [
            0,
            60
           ]
          },
          "yaxis": {
           "autorange": false,
           "range": [
            -0.5,
            5.5
           ],
           "tickfont": {
            "size": 14
           }
          }
         }
        },
        {
         "data": [
          {
           "marker": {
            "color": [
             "#FF9900",
             "#969696",
             "#FFFF00",
             "#FFFFCC",
             "#CC99FF"
            ]
           },
           "orientation": "h",
           "text": [
            20.67751015,
            23.11550353,
            28.742960200000002,
            30.53213732,
            33.96849434
           ],
           "type": "bar",
           "x": [
            20.67751015,
            23.11550353,
            28.742960200000002,
            30.53213732,
            33.96849434
           ],
           "y": [
            "Namibia",
            "South Africa",
            "Swaziland",
            "Lesotho",
            "Zimbabwe"
           ]
          }
         ],
         "layout": {
          "title": {
           "font": {
            "size": 28
           },
           "text": "Suicide Rates per Country: 2002"
          },
          "xaxis": {
           "autorange": false,
           "range": [
            0,
            60
           ]
          },
          "yaxis": {
           "autorange": false,
           "range": [
            -0.5,
            5.5
           ],
           "tickfont": {
            "size": 14
           }
          }
         }
        },
        {
         "data": [
          {
           "marker": {
            "color": [
             "#FF9900",
             "#969696",
             "#FFFF00",
             "#FFFFCC",
             "#CC99FF"
            ]
           },
           "orientation": "h",
           "text": [
            20.09257977,
            23.14238023,
            29.51497598,
            32.15039052,
            34.41541463
           ],
           "type": "bar",
           "x": [
            20.09257977,
            23.14238023,
            29.51497598,
            32.15039052,
            34.41541463
           ],
           "y": [
            "Namibia",
            "South Africa",
            "Swaziland",
            "Lesotho",
            "Zimbabwe"
           ]
          }
         ],
         "layout": {
          "title": {
           "font": {
            "size": 28
           },
           "text": "Suicide Rates per Country: 2003"
          },
          "xaxis": {
           "autorange": false,
           "range": [
            0,
            60
           ]
          },
          "yaxis": {
           "autorange": false,
           "range": [
            -0.5,
            5.5
           ],
           "tickfont": {
            "size": 14
           }
          }
         }
        },
        {
         "data": [
          {
           "marker": {
            "color": [
             "#FF9900",
             "#969696",
             "#FFFF00",
             "#FFFFCC",
             "#CC99FF"
            ]
           },
           "orientation": "h",
           "text": [
            19.31938576,
            22.53251876,
            29.887430600000005,
            33.11601242,
            35.19256711
           ],
           "type": "bar",
           "x": [
            19.31938576,
            22.53251876,
            29.887430600000005,
            33.11601242,
            35.19256711
           ],
           "y": [
            "Namibia",
            "South Africa",
            "Swaziland",
            "Lesotho",
            "Zimbabwe"
           ]
          }
         ],
         "layout": {
          "title": {
           "font": {
            "size": 28
           },
           "text": "Suicide Rates per Country: 2004"
          },
          "xaxis": {
           "autorange": false,
           "range": [
            0,
            60
           ]
          },
          "yaxis": {
           "autorange": false,
           "range": [
            -0.5,
            5.5
           ],
           "tickfont": {
            "size": 14
           }
          }
         }
        },
        {
         "data": [
          {
           "marker": {
            "color": [
             "#00FFFF",
             "#969696",
             "#FFFF00",
             "#FFFFCC",
             "#CC99FF"
            ]
           },
           "orientation": "h",
           "text": [
            18.77804514,
            21.53625801,
            30.0511597,
            33.8338632,
            35.26447353
           ],
           "type": "bar",
           "x": [
            18.77804514,
            21.53625801,
            30.0511597,
            33.8338632,
            35.26447353
           ],
           "y": [
            "Eritrea",
            "South Africa",
            "Swaziland",
            "Lesotho",
            "Zimbabwe"
           ]
          }
         ],
         "layout": {
          "title": {
           "font": {
            "size": 28
           },
           "text": "Suicide Rates per Country: 2005"
          },
          "xaxis": {
           "autorange": false,
           "range": [
            0,
            60
           ]
          },
          "yaxis": {
           "autorange": false,
           "range": [
            -0.5,
            5.5
           ],
           "tickfont": {
            "size": 14
           }
          }
         }
        },
        {
         "data": [
          {
           "marker": {
            "color": [
             "#00FFFF",
             "#969696",
             "#FFFF00",
             "#FFFFCC",
             "#CC99FF"
            ]
           },
           "orientation": "h",
           "text": [
            18.673331100000002,
            20.62194814,
            29.67377772,
            34.08873709,
            34.98245868
           ],
           "type": "bar",
           "x": [
            18.673331100000002,
            20.62194814,
            29.67377772,
            34.08873709,
            34.98245868
           ],
           "y": [
            "Eritrea",
            "South Africa",
            "Swaziland",
            "Lesotho",
            "Zimbabwe"
           ]
          }
         ],
         "layout": {
          "title": {
           "font": {
            "size": 28
           },
           "text": "Suicide Rates per Country: 2006"
          },
          "xaxis": {
           "autorange": false,
           "range": [
            0,
            60
           ]
          },
          "yaxis": {
           "autorange": false,
           "range": [
            -0.5,
            5.5
           ],
           "tickfont": {
            "size": 14
           }
          }
         }
        },
        {
         "data": [
          {
           "marker": {
            "color": [
             "#00FFFF",
             "#969696",
             "#FFFF00",
             "#FFFFCC",
             "#CC99FF"
            ]
           },
           "orientation": "h",
           "text": [
            18.39634661,
            19.17035173,
            29.43807473,
            34.36853886,
            34.55437314
           ],
           "type": "bar",
           "x": [
            18.39634661,
            19.17035173,
            29.43807473,
            34.36853886,
            34.55437314
           ],
           "y": [
            "Eritrea",
            "South Africa",
            "Swaziland",
            "Lesotho",
            "Zimbabwe"
           ]
          }
         ],
         "layout": {
          "title": {
           "font": {
            "size": 28
           },
           "text": "Suicide Rates per Country: 2007"
          },
          "xaxis": {
           "autorange": false,
           "range": [
            0,
            60
           ]
          },
          "yaxis": {
           "autorange": false,
           "range": [
            -0.5,
            5.5
           ],
           "tickfont": {
            "size": 14
           }
          }
         }
        },
        {
         "data": [
          {
           "marker": {
            "color": [
             "#969696",
             "#00FFFF",
             "#FFFF00",
             "#CC99FF",
             "#FFFFCC"
            ]
           },
           "orientation": "h",
           "text": [
            17.86706492,
            18.11124923,
            29.50559115,
            34.302704,
            35.07352879999999
           ],
           "type": "bar",
           "x": [
            17.86706492,
            18.11124923,
            29.50559115,
            34.302704,
            35.07352879999999
           ],
           "y": [
            "South Africa",
            "Eritrea",
            "Swaziland",
            "Zimbabwe",
            "Lesotho"
           ]
          }
         ],
         "layout": {
          "title": {
           "font": {
            "size": 28
           },
           "text": "Suicide Rates per Country: 2008"
          },
          "xaxis": {
           "autorange": false,
           "range": [
            0,
            60
           ]
          },
          "yaxis": {
           "autorange": false,
           "range": [
            -0.5,
            5.5
           ],
           "tickfont": {
            "size": 14
           }
          }
         }
        },
        {
         "data": [
          {
           "marker": {
            "color": [
             "#99CC00",
             "#00FFFF",
             "#FFFF00",
             "#CC99FF",
             "#FFFFCC"
            ]
           },
           "orientation": "h",
           "text": [
            17.49229107,
            17.81909636,
            29.49728014,
            33.61948288,
            34.61292606
           ],
           "type": "bar",
           "x": [
            17.49229107,
            17.81909636,
            29.49728014,
            33.61948288,
            34.61292606
           ],
           "y": [
            "Mozambique",
            "Eritrea",
            "Swaziland",
            "Zimbabwe",
            "Lesotho"
           ]
          }
         ],
         "layout": {
          "title": {
           "font": {
            "size": 28
           },
           "text": "Suicide Rates per Country: 2009"
          },
          "xaxis": {
           "autorange": false,
           "range": [
            0,
            60
           ]
          },
          "yaxis": {
           "autorange": false,
           "range": [
            -0.5,
            5.5
           ],
           "tickfont": {
            "size": 14
           }
          }
         }
        },
        {
         "data": [
          {
           "marker": {
            "color": [
             "#00FFFF",
             "#99CC00",
             "#FFFF00",
             "#CC99FF",
             "#FFFFCC"
            ]
           },
           "orientation": "h",
           "text": [
            17.60041267,
            17.72820416,
            29.08235913,
            32.36655533,
            34.5802612
           ],
           "type": "bar",
           "x": [
            17.60041267,
            17.72820416,
            29.08235913,
            32.36655533,
            34.5802612
           ],
           "y": [
            "Eritrea",
            "Mozambique",
            "Swaziland",
            "Zimbabwe",
            "Lesotho"
           ]
          }
         ],
         "layout": {
          "title": {
           "font": {
            "size": 28
           },
           "text": "Suicide Rates per Country: 2010"
          },
          "xaxis": {
           "autorange": false,
           "range": [
            0,
            60
           ]
          },
          "yaxis": {
           "autorange": false,
           "range": [
            -0.5,
            5.5
           ],
           "tickfont": {
            "size": 14
           }
          }
         }
        },
        {
         "data": [
          {
           "marker": {
            "color": [
             "#FF99CC",
             "#99CC00",
             "#FFFF00",
             "#CC99FF",
             "#FFFFCC"
            ]
           },
           "orientation": "h",
           "text": [
            17.47773912,
            17.82128512,
            28.29651061,
            30.68367645,
            34.33019893
           ],
           "type": "bar",
           "x": [
            17.47773912,
            17.82128512,
            28.29651061,
            30.68367645,
            34.33019893
           ],
           "y": [
            "C. African Rep.",
            "Mozambique",
            "Swaziland",
            "Zimbabwe",
            "Lesotho"
           ]
          }
         ],
         "layout": {
          "title": {
           "font": {
            "size": 28
           },
           "text": "Suicide Rates per Country: 2011"
          },
          "xaxis": {
           "autorange": false,
           "range": [
            0,
            60
           ]
          },
          "yaxis": {
           "autorange": false,
           "range": [
            -0.5,
            5.5
           ],
           "tickfont": {
            "size": 14
           }
          }
         }
        },
        {
         "data": [
          {
           "marker": {
            "color": [
             "#FF99CC",
             "#99CC00",
             "#FFFF00",
             "#CC99FF",
             "#FFFFCC"
            ]
           },
           "orientation": "h",
           "text": [
            17.26263783,
            17.86103848,
            27.79552479,
            29.34589779,
            34.52095178
           ],
           "type": "bar",
           "x": [
            17.26263783,
            17.86103848,
            27.79552479,
            29.34589779,
            34.52095178
           ],
           "y": [
            "C. African Rep.",
            "Mozambique",
            "Swaziland",
            "Zimbabwe",
            "Lesotho"
           ]
          }
         ],
         "layout": {
          "title": {
           "font": {
            "size": 28
           },
           "text": "Suicide Rates per Country: 2012"
          },
          "xaxis": {
           "autorange": false,
           "range": [
            0,
            60
           ]
          },
          "yaxis": {
           "autorange": false,
           "range": [
            -0.5,
            5.5
           ],
           "tickfont": {
            "size": 14
           }
          }
         }
        },
        {
         "data": [
          {
           "marker": {
            "color": [
             "#FF99CC",
             "#99CC00",
             "#FFFF00",
             "#CC99FF",
             "#FFFFCC"
            ]
           },
           "orientation": "h",
           "text": [
            17.35953253,
            17.817887300000002,
            27.145653000000003,
            28.36120026,
            34.71517151
           ],
           "type": "bar",
           "x": [
            17.35953253,
            17.817887300000002,
            27.145653000000003,
            28.36120026,
            34.71517151
           ],
           "y": [
            "C. African Rep.",
            "Mozambique",
            "Swaziland",
            "Zimbabwe",
            "Lesotho"
           ]
          }
         ],
         "layout": {
          "title": {
           "font": {
            "size": 28
           },
           "text": "Suicide Rates per Country: 2013"
          },
          "xaxis": {
           "autorange": false,
           "range": [
            0,
            60
           ]
          },
          "yaxis": {
           "autorange": false,
           "range": [
            -0.5,
            5.5
           ],
           "tickfont": {
            "size": 14
           }
          }
         }
        },
        {
         "data": [
          {
           "marker": {
            "color": [
             "#FF99CC",
             "#99CC00",
             "#FFFF00",
             "#CC99FF",
             "#FFFFCC"
            ]
           },
           "orientation": "h",
           "text": [
            17.25218247,
            17.72994665,
            25.94729276,
            27.60554743,
            34.59657984
           ],
           "type": "bar",
           "x": [
            17.25218247,
            17.72994665,
            25.94729276,
            27.60554743,
            34.59657984
           ],
           "y": [
            "C. African Rep.",
            "Mozambique",
            "Swaziland",
            "Zimbabwe",
            "Lesotho"
           ]
          }
         ],
         "layout": {
          "title": {
           "font": {
            "size": 28
           },
           "text": "Suicide Rates per Country: 2014"
          },
          "xaxis": {
           "autorange": false,
           "range": [
            0,
            60
           ]
          },
          "yaxis": {
           "autorange": false,
           "range": [
            -0.5,
            5.5
           ],
           "tickfont": {
            "size": 14
           }
          }
         }
        },
        {
         "data": [
          {
           "marker": {
            "color": [
             "#FF99CC",
             "#99CC00",
             "#FFFF00",
             "#CC99FF",
             "#FFFFCC"
            ]
           },
           "orientation": "h",
           "text": [
            17.17502716,
            17.63780824,
            24.70322665,
            27.19706124,
            34.27652644
           ],
           "type": "bar",
           "x": [
            17.17502716,
            17.63780824,
            24.70322665,
            27.19706124,
            34.27652644
           ],
           "y": [
            "C. African Rep.",
            "Mozambique",
            "Swaziland",
            "Zimbabwe",
            "Lesotho"
           ]
          }
         ],
         "layout": {
          "title": {
           "font": {
            "size": 28
           },
           "text": "Suicide Rates per Country: 2015"
          },
          "xaxis": {
           "autorange": false,
           "range": [
            0,
            60
           ]
          },
          "yaxis": {
           "autorange": false,
           "range": [
            -0.5,
            5.5
           ],
           "tickfont": {
            "size": 14
           }
          }
         }
        },
        {
         "data": [
          {
           "marker": {
            "color": [
             "#FF99CC",
             "#99CC00",
             "#FFFF00",
             "#CC99FF",
             "#FFFFCC"
            ]
           },
           "orientation": "h",
           "text": [
            17.05389843,
            17.46915357,
            23.53412026,
            26.83959101,
            33.09882905
           ],
           "type": "bar",
           "x": [
            17.05389843,
            17.46915357,
            23.53412026,
            26.83959101,
            33.09882905
           ],
           "y": [
            "C. African Rep.",
            "Mozambique",
            "Swaziland",
            "Zimbabwe",
            "Lesotho"
           ]
          }
         ],
         "layout": {
          "title": {
           "font": {
            "size": 28
           },
           "text": "Suicide Rates per Country: 2016"
          },
          "xaxis": {
           "autorange": false,
           "range": [
            0,
            60
           ]
          },
          "yaxis": {
           "autorange": false,
           "range": [
            -0.5,
            5.5
           ],
           "tickfont": {
            "size": 14
           }
          }
         }
        },
        {
         "data": [
          {
           "marker": {
            "color": [
             "#FF99CC",
             "#99CC00",
             "#FFFF00",
             "#CC99FF",
             "#FFFFCC"
            ]
           },
           "orientation": "h",
           "text": [
            16.92689737,
            17.20414341,
            22.31966302,
            26.39176915,
            31.71521752
           ],
           "type": "bar",
           "x": [
            16.92689737,
            17.20414341,
            22.31966302,
            26.39176915,
            31.71521752
           ],
           "y": [
            "C. African Rep.",
            "Mozambique",
            "Swaziland",
            "Zimbabwe",
            "Lesotho"
           ]
          }
         ],
         "layout": {
          "title": {
           "font": {
            "size": 28
           },
           "text": "Suicide Rates per Country: 2017"
          },
          "xaxis": {
           "autorange": false,
           "range": [
            0,
            60
           ]
          },
          "yaxis": {
           "autorange": false,
           "range": [
            -0.5,
            5.5
           ],
           "tickfont": {
            "size": 14
           }
          }
         }
        }
       ],
       "layout": {
        "template": {
         "data": {
          "bar": [
           {
            "error_x": {
             "color": "#2a3f5f"
            },
            "error_y": {
             "color": "#2a3f5f"
            },
            "marker": {
             "line": {
              "color": "#E5ECF6",
              "width": 0.5
             }
            },
            "type": "bar"
           }
          ],
          "barpolar": [
           {
            "marker": {
             "line": {
              "color": "#E5ECF6",
              "width": 0.5
             }
            },
            "type": "barpolar"
           }
          ],
          "carpet": [
           {
            "aaxis": {
             "endlinecolor": "#2a3f5f",
             "gridcolor": "white",
             "linecolor": "white",
             "minorgridcolor": "white",
             "startlinecolor": "#2a3f5f"
            },
            "baxis": {
             "endlinecolor": "#2a3f5f",
             "gridcolor": "white",
             "linecolor": "white",
             "minorgridcolor": "white",
             "startlinecolor": "#2a3f5f"
            },
            "type": "carpet"
           }
          ],
          "choropleth": [
           {
            "colorbar": {
             "outlinewidth": 0,
             "ticks": ""
            },
            "type": "choropleth"
           }
          ],
          "contour": [
           {
            "colorbar": {
             "outlinewidth": 0,
             "ticks": ""
            },
            "colorscale": [
             [
              0,
              "#0d0887"
             ],
             [
              0.1111111111111111,
              "#46039f"
             ],
             [
              0.2222222222222222,
              "#7201a8"
             ],
             [
              0.3333333333333333,
              "#9c179e"
             ],
             [
              0.4444444444444444,
              "#bd3786"
             ],
             [
              0.5555555555555556,
              "#d8576b"
             ],
             [
              0.6666666666666666,
              "#ed7953"
             ],
             [
              0.7777777777777778,
              "#fb9f3a"
             ],
             [
              0.8888888888888888,
              "#fdca26"
             ],
             [
              1,
              "#f0f921"
             ]
            ],
            "type": "contour"
           }
          ],
          "contourcarpet": [
           {
            "colorbar": {
             "outlinewidth": 0,
             "ticks": ""
            },
            "type": "contourcarpet"
           }
          ],
          "heatmap": [
           {
            "colorbar": {
             "outlinewidth": 0,
             "ticks": ""
            },
            "colorscale": [
             [
              0,
              "#0d0887"
             ],
             [
              0.1111111111111111,
              "#46039f"
             ],
             [
              0.2222222222222222,
              "#7201a8"
             ],
             [
              0.3333333333333333,
              "#9c179e"
             ],
             [
              0.4444444444444444,
              "#bd3786"
             ],
             [
              0.5555555555555556,
              "#d8576b"
             ],
             [
              0.6666666666666666,
              "#ed7953"
             ],
             [
              0.7777777777777778,
              "#fb9f3a"
             ],
             [
              0.8888888888888888,
              "#fdca26"
             ],
             [
              1,
              "#f0f921"
             ]
            ],
            "type": "heatmap"
           }
          ],
          "heatmapgl": [
           {
            "colorbar": {
             "outlinewidth": 0,
             "ticks": ""
            },
            "colorscale": [
             [
              0,
              "#0d0887"
             ],
             [
              0.1111111111111111,
              "#46039f"
             ],
             [
              0.2222222222222222,
              "#7201a8"
             ],
             [
              0.3333333333333333,
              "#9c179e"
             ],
             [
              0.4444444444444444,
              "#bd3786"
             ],
             [
              0.5555555555555556,
              "#d8576b"
             ],
             [
              0.6666666666666666,
              "#ed7953"
             ],
             [
              0.7777777777777778,
              "#fb9f3a"
             ],
             [
              0.8888888888888888,
              "#fdca26"
             ],
             [
              1,
              "#f0f921"
             ]
            ],
            "type": "heatmapgl"
           }
          ],
          "histogram": [
           {
            "marker": {
             "colorbar": {
              "outlinewidth": 0,
              "ticks": ""
             }
            },
            "type": "histogram"
           }
          ],
          "histogram2d": [
           {
            "colorbar": {
             "outlinewidth": 0,
             "ticks": ""
            },
            "colorscale": [
             [
              0,
              "#0d0887"
             ],
             [
              0.1111111111111111,
              "#46039f"
             ],
             [
              0.2222222222222222,
              "#7201a8"
             ],
             [
              0.3333333333333333,
              "#9c179e"
             ],
             [
              0.4444444444444444,
              "#bd3786"
             ],
             [
              0.5555555555555556,
              "#d8576b"
             ],
             [
              0.6666666666666666,
              "#ed7953"
             ],
             [
              0.7777777777777778,
              "#fb9f3a"
             ],
             [
              0.8888888888888888,
              "#fdca26"
             ],
             [
              1,
              "#f0f921"
             ]
            ],
            "type": "histogram2d"
           }
          ],
          "histogram2dcontour": [
           {
            "colorbar": {
             "outlinewidth": 0,
             "ticks": ""
            },
            "colorscale": [
             [
              0,
              "#0d0887"
             ],
             [
              0.1111111111111111,
              "#46039f"
             ],
             [
              0.2222222222222222,
              "#7201a8"
             ],
             [
              0.3333333333333333,
              "#9c179e"
             ],
             [
              0.4444444444444444,
              "#bd3786"
             ],
             [
              0.5555555555555556,
              "#d8576b"
             ],
             [
              0.6666666666666666,
              "#ed7953"
             ],
             [
              0.7777777777777778,
              "#fb9f3a"
             ],
             [
              0.8888888888888888,
              "#fdca26"
             ],
             [
              1,
              "#f0f921"
             ]
            ],
            "type": "histogram2dcontour"
           }
          ],
          "mesh3d": [
           {
            "colorbar": {
             "outlinewidth": 0,
             "ticks": ""
            },
            "type": "mesh3d"
           }
          ],
          "parcoords": [
           {
            "line": {
             "colorbar": {
              "outlinewidth": 0,
              "ticks": ""
             }
            },
            "type": "parcoords"
           }
          ],
          "pie": [
           {
            "automargin": true,
            "type": "pie"
           }
          ],
          "scatter": [
           {
            "marker": {
             "colorbar": {
              "outlinewidth": 0,
              "ticks": ""
             }
            },
            "type": "scatter"
           }
          ],
          "scatter3d": [
           {
            "line": {
             "colorbar": {
              "outlinewidth": 0,
              "ticks": ""
             }
            },
            "marker": {
             "colorbar": {
              "outlinewidth": 0,
              "ticks": ""
             }
            },
            "type": "scatter3d"
           }
          ],
          "scattercarpet": [
           {
            "marker": {
             "colorbar": {
              "outlinewidth": 0,
              "ticks": ""
             }
            },
            "type": "scattercarpet"
           }
          ],
          "scattergeo": [
           {
            "marker": {
             "colorbar": {
              "outlinewidth": 0,
              "ticks": ""
             }
            },
            "type": "scattergeo"
           }
          ],
          "scattergl": [
           {
            "marker": {
             "colorbar": {
              "outlinewidth": 0,
              "ticks": ""
             }
            },
            "type": "scattergl"
           }
          ],
          "scattermapbox": [
           {
            "marker": {
             "colorbar": {
              "outlinewidth": 0,
              "ticks": ""
             }
            },
            "type": "scattermapbox"
           }
          ],
          "scatterpolar": [
           {
            "marker": {
             "colorbar": {
              "outlinewidth": 0,
              "ticks": ""
             }
            },
            "type": "scatterpolar"
           }
          ],
          "scatterpolargl": [
           {
            "marker": {
             "colorbar": {
              "outlinewidth": 0,
              "ticks": ""
             }
            },
            "type": "scatterpolargl"
           }
          ],
          "scatterternary": [
           {
            "marker": {
             "colorbar": {
              "outlinewidth": 0,
              "ticks": ""
             }
            },
            "type": "scatterternary"
           }
          ],
          "surface": [
           {
            "colorbar": {
             "outlinewidth": 0,
             "ticks": ""
            },
            "colorscale": [
             [
              0,
              "#0d0887"
             ],
             [
              0.1111111111111111,
              "#46039f"
             ],
             [
              0.2222222222222222,
              "#7201a8"
             ],
             [
              0.3333333333333333,
              "#9c179e"
             ],
             [
              0.4444444444444444,
              "#bd3786"
             ],
             [
              0.5555555555555556,
              "#d8576b"
             ],
             [
              0.6666666666666666,
              "#ed7953"
             ],
             [
              0.7777777777777778,
              "#fb9f3a"
             ],
             [
              0.8888888888888888,
              "#fdca26"
             ],
             [
              1,
              "#f0f921"
             ]
            ],
            "type": "surface"
           }
          ],
          "table": [
           {
            "cells": {
             "fill": {
              "color": "#EBF0F8"
             },
             "line": {
              "color": "white"
             }
            },
            "header": {
             "fill": {
              "color": "#C8D4E3"
             },
             "line": {
              "color": "white"
             }
            },
            "type": "table"
           }
          ]
         },
         "layout": {
          "annotationdefaults": {
           "arrowcolor": "#2a3f5f",
           "arrowhead": 0,
           "arrowwidth": 1
          },
          "autotypenumbers": "strict",
          "coloraxis": {
           "colorbar": {
            "outlinewidth": 0,
            "ticks": ""
           }
          },
          "colorscale": {
           "diverging": [
            [
             0,
             "#8e0152"
            ],
            [
             0.1,
             "#c51b7d"
            ],
            [
             0.2,
             "#de77ae"
            ],
            [
             0.3,
             "#f1b6da"
            ],
            [
             0.4,
             "#fde0ef"
            ],
            [
             0.5,
             "#f7f7f7"
            ],
            [
             0.6,
             "#e6f5d0"
            ],
            [
             0.7,
             "#b8e186"
            ],
            [
             0.8,
             "#7fbc41"
            ],
            [
             0.9,
             "#4d9221"
            ],
            [
             1,
             "#276419"
            ]
           ],
           "sequential": [
            [
             0,
             "#0d0887"
            ],
            [
             0.1111111111111111,
             "#46039f"
            ],
            [
             0.2222222222222222,
             "#7201a8"
            ],
            [
             0.3333333333333333,
             "#9c179e"
            ],
            [
             0.4444444444444444,
             "#bd3786"
            ],
            [
             0.5555555555555556,
             "#d8576b"
            ],
            [
             0.6666666666666666,
             "#ed7953"
            ],
            [
             0.7777777777777778,
             "#fb9f3a"
            ],
            [
             0.8888888888888888,
             "#fdca26"
            ],
            [
             1,
             "#f0f921"
            ]
           ],
           "sequentialminus": [
            [
             0,
             "#0d0887"
            ],
            [
             0.1111111111111111,
             "#46039f"
            ],
            [
             0.2222222222222222,
             "#7201a8"
            ],
            [
             0.3333333333333333,
             "#9c179e"
            ],
            [
             0.4444444444444444,
             "#bd3786"
            ],
            [
             0.5555555555555556,
             "#d8576b"
            ],
            [
             0.6666666666666666,
             "#ed7953"
            ],
            [
             0.7777777777777778,
             "#fb9f3a"
            ],
            [
             0.8888888888888888,
             "#fdca26"
            ],
            [
             1,
             "#f0f921"
            ]
           ]
          },
          "colorway": [
           "#636efa",
           "#EF553B",
           "#00cc96",
           "#ab63fa",
           "#FFA15A",
           "#19d3f3",
           "#FF6692",
           "#B6E880",
           "#FF97FF",
           "#FECB52"
          ],
          "font": {
           "color": "#2a3f5f"
          },
          "geo": {
           "bgcolor": "white",
           "lakecolor": "white",
           "landcolor": "#E5ECF6",
           "showlakes": true,
           "showland": true,
           "subunitcolor": "white"
          },
          "hoverlabel": {
           "align": "left"
          },
          "hovermode": "closest",
          "mapbox": {
           "style": "light"
          },
          "paper_bgcolor": "white",
          "plot_bgcolor": "#E5ECF6",
          "polar": {
           "angularaxis": {
            "gridcolor": "white",
            "linecolor": "white",
            "ticks": ""
           },
           "bgcolor": "#E5ECF6",
           "radialaxis": {
            "gridcolor": "white",
            "linecolor": "white",
            "ticks": ""
           }
          },
          "scene": {
           "xaxis": {
            "backgroundcolor": "#E5ECF6",
            "gridcolor": "white",
            "gridwidth": 2,
            "linecolor": "white",
            "showbackground": true,
            "ticks": "",
            "zerolinecolor": "white"
           },
           "yaxis": {
            "backgroundcolor": "#E5ECF6",
            "gridcolor": "white",
            "gridwidth": 2,
            "linecolor": "white",
            "showbackground": true,
            "ticks": "",
            "zerolinecolor": "white"
           },
           "zaxis": {
            "backgroundcolor": "#E5ECF6",
            "gridcolor": "white",
            "gridwidth": 2,
            "linecolor": "white",
            "showbackground": true,
            "ticks": "",
            "zerolinecolor": "white"
           }
          },
          "shapedefaults": {
           "line": {
            "color": "#2a3f5f"
           }
          },
          "ternary": {
           "aaxis": {
            "gridcolor": "white",
            "linecolor": "white",
            "ticks": ""
           },
           "baxis": {
            "gridcolor": "white",
            "linecolor": "white",
            "ticks": ""
           },
           "bgcolor": "#E5ECF6",
           "caxis": {
            "gridcolor": "white",
            "linecolor": "white",
            "ticks": ""
           }
          },
          "title": {
           "x": 0.05
          },
          "xaxis": {
           "automargin": true,
           "gridcolor": "white",
           "linecolor": "white",
           "ticks": "",
           "title": {
            "standoff": 15
           },
           "zerolinecolor": "white",
           "zerolinewidth": 2
          },
          "yaxis": {
           "automargin": true,
           "gridcolor": "white",
           "linecolor": "white",
           "ticks": "",
           "title": {
            "standoff": 15
           },
           "zerolinecolor": "white",
           "zerolinewidth": 2
          }
         }
        },
        "title": {
         "font": {
          "size": 28
         },
         "text": "Suicide Rates per Country: 1990",
         "x": 0.5,
         "xanchor": "center"
        },
        "updatemenus": [
         {
          "buttons": [
           {
            "args": [
             null,
             {
              "frame": {
               "duration": 1000,
               "redraw": true
              },
              "transition": {
               "duration": 250,
               "easing": "linear"
              }
             }
            ],
            "label": "Play",
            "method": "animate"
           }
          ],
          "type": "buttons"
         }
        ],
        "xaxis": {
         "autorange": false,
         "range": [
          0,
          60
         ],
         "title": {
          "font": {
           "size": 18
          },
          "text": "suicide rate (deaths per 100,000)"
         }
        },
        "yaxis": {
         "autorange": false,
         "range": [
          -0.5,
          5.5
         ],
         "tickfont": {
          "size": 14
         }
        }
       }
      },
      "text/html": [
       "<div>                            <div id=\"8a89fee0-384c-422d-8809-a233bfa4a9c4\" class=\"plotly-graph-div\" style=\"height:525px; width:100%;\"></div>            <script type=\"text/javascript\">                require([\"plotly\"], function(Plotly) {                    window.PLOTLYENV=window.PLOTLYENV || {};                                    if (document.getElementById(\"8a89fee0-384c-422d-8809-a233bfa4a9c4\")) {                    Plotly.newPlot(                        \"8a89fee0-384c-422d-8809-a233bfa4a9c4\",                        [{\"insidetextanchor\": \"middle\", \"marker\": {\"color\": [\"#800000\", \"#00FFFF\", \"#FFFF00\", \"#0000FF\", \"#FFFFCC\"]}, \"orientation\": \"h\", \"text\": [19.32093546, 19.95072819, 20.27244424, 22.16843796, 24.12464833], \"textfont\": {\"size\": 18}, \"textposition\": \"inside\", \"texttemplate\": \"%{text:.3s}\", \"type\": \"bar\", \"width\": 0.9, \"x\": [19.32093546, 19.95072819, 20.27244424, 22.16843796, 24.12464833], \"y\": [\"Ethiopia\", \"Eritrea\", \"Burundi\", \"Rwanda\", \"Lesotho\"]}],                        {\"template\": {\"data\": {\"bar\": [{\"error_x\": {\"color\": \"#2a3f5f\"}, \"error_y\": {\"color\": \"#2a3f5f\"}, \"marker\": {\"line\": {\"color\": \"#E5ECF6\", \"width\": 0.5}}, \"type\": \"bar\"}], \"barpolar\": [{\"marker\": {\"line\": {\"color\": \"#E5ECF6\", \"width\": 0.5}}, \"type\": \"barpolar\"}], \"carpet\": [{\"aaxis\": {\"endlinecolor\": \"#2a3f5f\", \"gridcolor\": \"white\", \"linecolor\": \"white\", \"minorgridcolor\": \"white\", \"startlinecolor\": \"#2a3f5f\"}, \"baxis\": {\"endlinecolor\": \"#2a3f5f\", \"gridcolor\": \"white\", \"linecolor\": \"white\", \"minorgridcolor\": \"white\", \"startlinecolor\": \"#2a3f5f\"}, \"type\": \"carpet\"}], \"choropleth\": [{\"colorbar\": {\"outlinewidth\": 0, \"ticks\": \"\"}, \"type\": \"choropleth\"}], \"contour\": [{\"colorbar\": {\"outlinewidth\": 0, \"ticks\": \"\"}, \"colorscale\": [[0.0, \"#0d0887\"], [0.1111111111111111, \"#46039f\"], [0.2222222222222222, \"#7201a8\"], [0.3333333333333333, \"#9c179e\"], [0.4444444444444444, \"#bd3786\"], [0.5555555555555556, \"#d8576b\"], [0.6666666666666666, \"#ed7953\"], [0.7777777777777778, \"#fb9f3a\"], [0.8888888888888888, \"#fdca26\"], [1.0, \"#f0f921\"]], \"type\": \"contour\"}], \"contourcarpet\": [{\"colorbar\": {\"outlinewidth\": 0, \"ticks\": \"\"}, \"type\": \"contourcarpet\"}], \"heatmap\": [{\"colorbar\": {\"outlinewidth\": 0, \"ticks\": \"\"}, \"colorscale\": [[0.0, \"#0d0887\"], [0.1111111111111111, \"#46039f\"], [0.2222222222222222, \"#7201a8\"], [0.3333333333333333, \"#9c179e\"], [0.4444444444444444, \"#bd3786\"], [0.5555555555555556, \"#d8576b\"], [0.6666666666666666, \"#ed7953\"], [0.7777777777777778, \"#fb9f3a\"], [0.8888888888888888, \"#fdca26\"], [1.0, \"#f0f921\"]], \"type\": \"heatmap\"}], \"heatmapgl\": [{\"colorbar\": {\"outlinewidth\": 0, \"ticks\": \"\"}, \"colorscale\": [[0.0, \"#0d0887\"], [0.1111111111111111, \"#46039f\"], [0.2222222222222222, \"#7201a8\"], [0.3333333333333333, \"#9c179e\"], [0.4444444444444444, \"#bd3786\"], [0.5555555555555556, \"#d8576b\"], [0.6666666666666666, \"#ed7953\"], [0.7777777777777778, \"#fb9f3a\"], [0.8888888888888888, \"#fdca26\"], [1.0, \"#f0f921\"]], \"type\": \"heatmapgl\"}], \"histogram\": [{\"marker\": {\"colorbar\": {\"outlinewidth\": 0, \"ticks\": \"\"}}, \"type\": \"histogram\"}], \"histogram2d\": [{\"colorbar\": {\"outlinewidth\": 0, \"ticks\": \"\"}, \"colorscale\": [[0.0, \"#0d0887\"], [0.1111111111111111, \"#46039f\"], [0.2222222222222222, \"#7201a8\"], [0.3333333333333333, \"#9c179e\"], [0.4444444444444444, \"#bd3786\"], [0.5555555555555556, \"#d8576b\"], [0.6666666666666666, \"#ed7953\"], [0.7777777777777778, \"#fb9f3a\"], [0.8888888888888888, \"#fdca26\"], [1.0, \"#f0f921\"]], \"type\": \"histogram2d\"}], \"histogram2dcontour\": [{\"colorbar\": {\"outlinewidth\": 0, \"ticks\": \"\"}, \"colorscale\": [[0.0, \"#0d0887\"], [0.1111111111111111, \"#46039f\"], [0.2222222222222222, \"#7201a8\"], [0.3333333333333333, \"#9c179e\"], [0.4444444444444444, \"#bd3786\"], [0.5555555555555556, \"#d8576b\"], [0.6666666666666666, \"#ed7953\"], [0.7777777777777778, \"#fb9f3a\"], [0.8888888888888888, \"#fdca26\"], [1.0, \"#f0f921\"]], \"type\": \"histogram2dcontour\"}], \"mesh3d\": [{\"colorbar\": {\"outlinewidth\": 0, \"ticks\": \"\"}, \"type\": \"mesh3d\"}], \"parcoords\": [{\"line\": {\"colorbar\": {\"outlinewidth\": 0, \"ticks\": \"\"}}, \"type\": \"parcoords\"}], \"pie\": [{\"automargin\": true, \"type\": \"pie\"}], \"scatter\": [{\"marker\": {\"colorbar\": {\"outlinewidth\": 0, \"ticks\": \"\"}}, \"type\": \"scatter\"}], \"scatter3d\": [{\"line\": {\"colorbar\": {\"outlinewidth\": 0, \"ticks\": \"\"}}, \"marker\": {\"colorbar\": {\"outlinewidth\": 0, \"ticks\": \"\"}}, \"type\": \"scatter3d\"}], \"scattercarpet\": [{\"marker\": {\"colorbar\": {\"outlinewidth\": 0, \"ticks\": \"\"}}, \"type\": \"scattercarpet\"}], \"scattergeo\": [{\"marker\": {\"colorbar\": {\"outlinewidth\": 0, \"ticks\": \"\"}}, \"type\": \"scattergeo\"}], \"scattergl\": [{\"marker\": {\"colorbar\": {\"outlinewidth\": 0, \"ticks\": \"\"}}, \"type\": \"scattergl\"}], \"scattermapbox\": [{\"marker\": {\"colorbar\": {\"outlinewidth\": 0, \"ticks\": \"\"}}, \"type\": \"scattermapbox\"}], \"scatterpolar\": [{\"marker\": {\"colorbar\": {\"outlinewidth\": 0, \"ticks\": \"\"}}, \"type\": \"scatterpolar\"}], \"scatterpolargl\": [{\"marker\": {\"colorbar\": {\"outlinewidth\": 0, \"ticks\": \"\"}}, \"type\": \"scatterpolargl\"}], \"scatterternary\": [{\"marker\": {\"colorbar\": {\"outlinewidth\": 0, \"ticks\": \"\"}}, \"type\": \"scatterternary\"}], \"surface\": [{\"colorbar\": {\"outlinewidth\": 0, \"ticks\": \"\"}, \"colorscale\": [[0.0, \"#0d0887\"], [0.1111111111111111, \"#46039f\"], [0.2222222222222222, \"#7201a8\"], [0.3333333333333333, \"#9c179e\"], [0.4444444444444444, \"#bd3786\"], [0.5555555555555556, \"#d8576b\"], [0.6666666666666666, \"#ed7953\"], [0.7777777777777778, \"#fb9f3a\"], [0.8888888888888888, \"#fdca26\"], [1.0, \"#f0f921\"]], \"type\": \"surface\"}], \"table\": [{\"cells\": {\"fill\": {\"color\": \"#EBF0F8\"}, \"line\": {\"color\": \"white\"}}, \"header\": {\"fill\": {\"color\": \"#C8D4E3\"}, \"line\": {\"color\": \"white\"}}, \"type\": \"table\"}]}, \"layout\": {\"annotationdefaults\": {\"arrowcolor\": \"#2a3f5f\", \"arrowhead\": 0, \"arrowwidth\": 1}, \"autotypenumbers\": \"strict\", \"coloraxis\": {\"colorbar\": {\"outlinewidth\": 0, \"ticks\": \"\"}}, \"colorscale\": {\"diverging\": [[0, \"#8e0152\"], [0.1, \"#c51b7d\"], [0.2, \"#de77ae\"], [0.3, \"#f1b6da\"], [0.4, \"#fde0ef\"], [0.5, \"#f7f7f7\"], [0.6, \"#e6f5d0\"], [0.7, \"#b8e186\"], [0.8, \"#7fbc41\"], [0.9, \"#4d9221\"], [1, \"#276419\"]], \"sequential\": [[0.0, \"#0d0887\"], [0.1111111111111111, \"#46039f\"], [0.2222222222222222, \"#7201a8\"], [0.3333333333333333, \"#9c179e\"], [0.4444444444444444, \"#bd3786\"], [0.5555555555555556, \"#d8576b\"], [0.6666666666666666, \"#ed7953\"], [0.7777777777777778, \"#fb9f3a\"], [0.8888888888888888, \"#fdca26\"], [1.0, \"#f0f921\"]], \"sequentialminus\": [[0.0, \"#0d0887\"], [0.1111111111111111, \"#46039f\"], [0.2222222222222222, \"#7201a8\"], [0.3333333333333333, \"#9c179e\"], [0.4444444444444444, \"#bd3786\"], [0.5555555555555556, \"#d8576b\"], [0.6666666666666666, \"#ed7953\"], [0.7777777777777778, \"#fb9f3a\"], [0.8888888888888888, \"#fdca26\"], [1.0, \"#f0f921\"]]}, \"colorway\": [\"#636efa\", \"#EF553B\", \"#00cc96\", \"#ab63fa\", \"#FFA15A\", \"#19d3f3\", \"#FF6692\", \"#B6E880\", \"#FF97FF\", \"#FECB52\"], \"font\": {\"color\": \"#2a3f5f\"}, \"geo\": {\"bgcolor\": \"white\", \"lakecolor\": \"white\", \"landcolor\": \"#E5ECF6\", \"showlakes\": true, \"showland\": true, \"subunitcolor\": \"white\"}, \"hoverlabel\": {\"align\": \"left\"}, \"hovermode\": \"closest\", \"mapbox\": {\"style\": \"light\"}, \"paper_bgcolor\": \"white\", \"plot_bgcolor\": \"#E5ECF6\", \"polar\": {\"angularaxis\": {\"gridcolor\": \"white\", \"linecolor\": \"white\", \"ticks\": \"\"}, \"bgcolor\": \"#E5ECF6\", \"radialaxis\": {\"gridcolor\": \"white\", \"linecolor\": \"white\", \"ticks\": \"\"}}, \"scene\": {\"xaxis\": {\"backgroundcolor\": \"#E5ECF6\", \"gridcolor\": \"white\", \"gridwidth\": 2, \"linecolor\": \"white\", \"showbackground\": true, \"ticks\": \"\", \"zerolinecolor\": \"white\"}, \"yaxis\": {\"backgroundcolor\": \"#E5ECF6\", \"gridcolor\": \"white\", \"gridwidth\": 2, \"linecolor\": \"white\", \"showbackground\": true, \"ticks\": \"\", \"zerolinecolor\": \"white\"}, \"zaxis\": {\"backgroundcolor\": \"#E5ECF6\", \"gridcolor\": \"white\", \"gridwidth\": 2, \"linecolor\": \"white\", \"showbackground\": true, \"ticks\": \"\", \"zerolinecolor\": \"white\"}}, \"shapedefaults\": {\"line\": {\"color\": \"#2a3f5f\"}}, \"ternary\": {\"aaxis\": {\"gridcolor\": \"white\", \"linecolor\": \"white\", \"ticks\": \"\"}, \"baxis\": {\"gridcolor\": \"white\", \"linecolor\": \"white\", \"ticks\": \"\"}, \"bgcolor\": \"#E5ECF6\", \"caxis\": {\"gridcolor\": \"white\", \"linecolor\": \"white\", \"ticks\": \"\"}}, \"title\": {\"x\": 0.05}, \"xaxis\": {\"automargin\": true, \"gridcolor\": \"white\", \"linecolor\": \"white\", \"ticks\": \"\", \"title\": {\"standoff\": 15}, \"zerolinecolor\": \"white\", \"zerolinewidth\": 2}, \"yaxis\": {\"automargin\": true, \"gridcolor\": \"white\", \"linecolor\": \"white\", \"ticks\": \"\", \"title\": {\"standoff\": 15}, \"zerolinecolor\": \"white\", \"zerolinewidth\": 2}}}, \"title\": {\"font\": {\"size\": 28}, \"text\": \"Suicide Rates per Country: 1990\", \"x\": 0.5, \"xanchor\": \"center\"}, \"updatemenus\": [{\"buttons\": [{\"args\": [null, {\"frame\": {\"duration\": 1000, \"redraw\": true}, \"transition\": {\"duration\": 250, \"easing\": \"linear\"}}], \"label\": \"Play\", \"method\": \"animate\"}], \"type\": \"buttons\"}], \"xaxis\": {\"autorange\": false, \"range\": [0, 60], \"title\": {\"font\": {\"size\": 18}, \"text\": \"suicide rate (deaths per 100,000)\"}}, \"yaxis\": {\"autorange\": false, \"range\": [-0.5, 5.5], \"tickfont\": {\"size\": 14}}},                        {\"responsive\": true}                    ).then(function(){\n",
       "                            Plotly.addFrames('8a89fee0-384c-422d-8809-a233bfa4a9c4', [{\"data\": [{\"marker\": {\"color\": [\"#800000\", \"#00FFFF\", \"#FFFF00\", \"#0000FF\", \"#FFFFCC\"]}, \"orientation\": \"h\", \"text\": [19.32093546, 19.95072819, 20.27244424, 22.16843796, 24.12464833], \"x\": [19.32093546, 19.95072819, 20.27244424, 22.16843796, 24.12464833], \"y\": [\"Ethiopia\", \"Eritrea\", \"Burundi\", \"Rwanda\", \"Lesotho\"], \"type\": \"bar\"}], \"layout\": {\"title\": {\"font\": {\"size\": 28}, \"text\": \"Suicide Rates per Country: 1990\"}, \"xaxis\": {\"autorange\": false, \"range\": [0, 60]}, \"yaxis\": {\"autorange\": false, \"range\": [-0.5, 5.5], \"tickfont\": {\"size\": 14}}}}, {\"data\": [{\"marker\": {\"color\": [\"#800000\", \"#FFFF00\", \"#00FFFF\", \"#0000FF\", \"#FFFFCC\"]}, \"orientation\": \"h\", \"text\": [19.2894636, 20.17021873, 21.16437309, 22.68687066, 23.38160465], \"x\": [19.2894636, 20.17021873, 21.16437309, 22.68687066, 23.38160465], \"y\": [\"Ethiopia\", \"Burundi\", \"Eritrea\", \"Rwanda\", \"Lesotho\"], \"type\": \"bar\"}], \"layout\": {\"title\": {\"font\": {\"size\": 28}, \"text\": \"Suicide Rates per Country: 1991\"}, \"xaxis\": {\"autorange\": false, \"range\": [0, 60]}, \"yaxis\": {\"autorange\": false, \"range\": [-0.5, 5.5], \"tickfont\": {\"size\": 14}}}}, {\"data\": [{\"marker\": {\"color\": [\"#800000\", \"#FFFF00\", \"#00FFFF\", \"#FFFFCC\", \"#0000FF\"]}, \"orientation\": \"h\", \"text\": [19.34147938, 20.05588859, 21.3902551, 22.99778486, 23.03586292], \"x\": [19.34147938, 20.05588859, 21.3902551, 22.99778486, 23.03586292], \"y\": [\"Ethiopia\", \"Burundi\", \"Eritrea\", \"Lesotho\", \"Rwanda\"], \"type\": \"bar\"}], \"layout\": {\"title\": {\"font\": {\"size\": 28}, \"text\": \"Suicide Rates per Country: 1992\"}, \"xaxis\": {\"autorange\": false, \"range\": [0, 60]}, \"yaxis\": {\"autorange\": false, \"range\": [-0.5, 5.5], \"tickfont\": {\"size\": 14}}}}, {\"data\": [{\"marker\": {\"color\": [\"#800000\", \"#FFFF00\", \"#00FFFF\", \"#FFFFCC\", \"#0000FF\"]}, \"orientation\": \"h\", \"text\": [19.23249197, 20.23813227, 21.54680948, 22.6320656, 22.95597295], \"x\": [19.23249197, 20.23813227, 21.54680948, 22.6320656, 22.95597295], \"y\": [\"Ethiopia\", \"Burundi\", \"Eritrea\", \"Lesotho\", \"Rwanda\"], \"type\": \"bar\"}], \"layout\": {\"title\": {\"font\": {\"size\": 28}, \"text\": \"Suicide Rates per Country: 1993\"}, \"xaxis\": {\"autorange\": false, \"range\": [0, 60]}, \"yaxis\": {\"autorange\": false, \"range\": [-0.5, 5.5], \"tickfont\": {\"size\": 14}}}}, {\"data\": [{\"marker\": {\"color\": [\"#800000\", \"#FFFF00\", \"#00FFFF\", \"#FFFFCC\", \"#0000FF\"]}, \"orientation\": \"h\", \"text\": [19.00656928, 20.24589957, 21.92987099, 22.71166671, 23.95154275], \"x\": [19.00656928, 20.24589957, 21.92987099, 22.71166671, 23.95154275], \"y\": [\"Ethiopia\", \"Burundi\", \"Eritrea\", \"Lesotho\", \"Rwanda\"], \"type\": \"bar\"}], \"layout\": {\"title\": {\"font\": {\"size\": 28}, \"text\": \"Suicide Rates per Country: 1994\"}, \"xaxis\": {\"autorange\": false, \"range\": [0, 60]}, \"yaxis\": {\"autorange\": false, \"range\": [-0.5, 5.5], \"tickfont\": {\"size\": 14}}}}, {\"data\": [{\"marker\": {\"color\": [\"#FFFF00\", \"#CC99FF\", \"#00FFFF\", \"#FFFFCC\", \"#0000FF\"]}, \"orientation\": \"h\", \"text\": [20.37238388, 20.66954753, 21.90895604, 22.60269708, 24.48229277], \"x\": [20.37238388, 20.66954753, 21.90895604, 22.60269708, 24.48229277], \"y\": [\"Burundi\", \"Zimbabwe\", \"Eritrea\", \"Lesotho\", \"Rwanda\"], \"type\": \"bar\"}], \"layout\": {\"title\": {\"font\": {\"size\": 28}, \"text\": \"Suicide Rates per Country: 1995\"}, \"xaxis\": {\"autorange\": false, \"range\": [0, 60]}, \"yaxis\": {\"autorange\": false, \"range\": [-0.5, 5.5], \"tickfont\": {\"size\": 14}}}}, {\"data\": [{\"marker\": {\"color\": [\"#FFFF00\", \"#CC99FF\", \"#00FFFF\", \"#FFFFCC\", \"#0000FF\"]}, \"orientation\": \"h\", \"text\": [20.72122312, 21.147585999999997, 22.41778222, 22.77374224, 24.30563437], \"x\": [20.72122312, 21.147585999999997, 22.41778222, 22.77374224, 24.30563437], \"y\": [\"Swaziland\", \"Zimbabwe\", \"Eritrea\", \"Lesotho\", \"Rwanda\"], \"type\": \"bar\"}], \"layout\": {\"title\": {\"font\": {\"size\": 28}, \"text\": \"Suicide Rates per Country: 1996\"}, \"xaxis\": {\"autorange\": false, \"range\": [0, 60]}, \"yaxis\": {\"autorange\": false, \"range\": [-0.5, 5.5], \"tickfont\": {\"size\": 14}}}}, {\"data\": [{\"marker\": {\"color\": [\"#FFFF00\", \"#00FFFF\", \"#CC99FF\", \"#FFFFCC\", \"#0000FF\"]}, \"orientation\": \"h\", \"text\": [21.37824416, 22.03371024, 22.55760607, 23.41723983, 23.98233362], \"x\": [21.37824416, 22.03371024, 22.55760607, 23.41723983, 23.98233362], \"y\": [\"Swaziland\", \"Eritrea\", \"Zimbabwe\", \"Lesotho\", \"Rwanda\"], \"type\": \"bar\"}], \"layout\": {\"title\": {\"font\": {\"size\": 28}, \"text\": \"Suicide Rates per Country: 1997\"}, \"xaxis\": {\"autorange\": false, \"range\": [0, 60]}, \"yaxis\": {\"autorange\": false, \"range\": [-0.5, 5.5], \"tickfont\": {\"size\": 14}}}}, {\"data\": [{\"marker\": {\"color\": [\"#969696\", \"#FFFF00\", \"#0000FF\", \"#FFFFCC\", \"#CC99FF\"]}, \"orientation\": \"h\", \"text\": [21.62348619, 22.88162073, 23.00328141, 24.79737668, 24.88439113], \"x\": [21.62348619, 22.88162073, 23.00328141, 24.79737668, 24.88439113], \"y\": [\"South Africa\", \"Swaziland\", \"Rwanda\", \"Lesotho\", \"Zimbabwe\"], \"type\": \"bar\"}], \"layout\": {\"title\": {\"font\": {\"size\": 28}, \"text\": \"Suicide Rates per Country: 1998\"}, \"xaxis\": {\"autorange\": false, \"range\": [0, 60]}, \"yaxis\": {\"autorange\": false, \"range\": [-0.5, 5.5], \"tickfont\": {\"size\": 14}}}}, {\"data\": [{\"marker\": {\"color\": [\"#0000FF\", \"#969696\", \"#FFFF00\", \"#FFFFCC\", \"#CC99FF\"]}, \"orientation\": \"h\", \"text\": [21.68609583, 22.3857246, 24.08416713, 26.06427008, 27.21299514], \"x\": [21.68609583, 22.3857246, 24.08416713, 26.06427008, 27.21299514], \"y\": [\"Rwanda\", \"South Africa\", \"Swaziland\", \"Lesotho\", \"Zimbabwe\"], \"type\": \"bar\"}], \"layout\": {\"title\": {\"font\": {\"size\": 28}, \"text\": \"Suicide Rates per Country: 1999\"}, \"xaxis\": {\"autorange\": false, \"range\": [0, 60]}, \"yaxis\": {\"autorange\": false, \"range\": [-0.5, 5.5], \"tickfont\": {\"size\": 14}}}}, {\"data\": [{\"marker\": {\"color\": [\"#FF9900\", \"#969696\", \"#FFFF00\", \"#FFFFCC\", \"#CC99FF\"]}, \"orientation\": \"h\", \"text\": [21.12433311, 24.27009675, 25.93823717, 28.18131385, 30.02623619], \"x\": [21.12433311, 24.27009675, 25.93823717, 28.18131385, 30.02623619], \"y\": [\"Namibia\", \"South Africa\", \"Swaziland\", \"Lesotho\", \"Zimbabwe\"], \"type\": \"bar\"}], \"layout\": {\"title\": {\"font\": {\"size\": 28}, \"text\": \"Suicide Rates per Country: 2000\"}, \"xaxis\": {\"autorange\": false, \"range\": [0, 60]}, \"yaxis\": {\"autorange\": false, \"range\": [-0.5, 5.5], \"tickfont\": {\"size\": 14}}}}, {\"data\": [{\"marker\": {\"color\": [\"#FF9900\", \"#969696\", \"#FFFF00\", \"#FFFFCC\", \"#CC99FF\"]}, \"orientation\": \"h\", \"text\": [20.72209178, 23.00986622, 27.46937498, 28.97846481, 31.70325081], \"x\": [20.72209178, 23.00986622, 27.46937498, 28.97846481, 31.70325081], \"y\": [\"Namibia\", \"South Africa\", \"Swaziland\", \"Lesotho\", \"Zimbabwe\"], \"type\": \"bar\"}], \"layout\": {\"title\": {\"font\": {\"size\": 28}, \"text\": \"Suicide Rates per Country: 2001\"}, \"xaxis\": {\"autorange\": false, \"range\": [0, 60]}, \"yaxis\": {\"autorange\": false, \"range\": [-0.5, 5.5], \"tickfont\": {\"size\": 14}}}}, {\"data\": [{\"marker\": {\"color\": [\"#FF9900\", \"#969696\", \"#FFFF00\", \"#FFFFCC\", \"#CC99FF\"]}, \"orientation\": \"h\", \"text\": [20.67751015, 23.11550353, 28.742960200000002, 30.53213732, 33.96849434], \"x\": [20.67751015, 23.11550353, 28.742960200000002, 30.53213732, 33.96849434], \"y\": [\"Namibia\", \"South Africa\", \"Swaziland\", \"Lesotho\", \"Zimbabwe\"], \"type\": \"bar\"}], \"layout\": {\"title\": {\"font\": {\"size\": 28}, \"text\": \"Suicide Rates per Country: 2002\"}, \"xaxis\": {\"autorange\": false, \"range\": [0, 60]}, \"yaxis\": {\"autorange\": false, \"range\": [-0.5, 5.5], \"tickfont\": {\"size\": 14}}}}, {\"data\": [{\"marker\": {\"color\": [\"#FF9900\", \"#969696\", \"#FFFF00\", \"#FFFFCC\", \"#CC99FF\"]}, \"orientation\": \"h\", \"text\": [20.09257977, 23.14238023, 29.51497598, 32.15039052, 34.41541463], \"x\": [20.09257977, 23.14238023, 29.51497598, 32.15039052, 34.41541463], \"y\": [\"Namibia\", \"South Africa\", \"Swaziland\", \"Lesotho\", \"Zimbabwe\"], \"type\": \"bar\"}], \"layout\": {\"title\": {\"font\": {\"size\": 28}, \"text\": \"Suicide Rates per Country: 2003\"}, \"xaxis\": {\"autorange\": false, \"range\": [0, 60]}, \"yaxis\": {\"autorange\": false, \"range\": [-0.5, 5.5], \"tickfont\": {\"size\": 14}}}}, {\"data\": [{\"marker\": {\"color\": [\"#FF9900\", \"#969696\", \"#FFFF00\", \"#FFFFCC\", \"#CC99FF\"]}, \"orientation\": \"h\", \"text\": [19.31938576, 22.53251876, 29.887430600000005, 33.11601242, 35.19256711], \"x\": [19.31938576, 22.53251876, 29.887430600000005, 33.11601242, 35.19256711], \"y\": [\"Namibia\", \"South Africa\", \"Swaziland\", \"Lesotho\", \"Zimbabwe\"], \"type\": \"bar\"}], \"layout\": {\"title\": {\"font\": {\"size\": 28}, \"text\": \"Suicide Rates per Country: 2004\"}, \"xaxis\": {\"autorange\": false, \"range\": [0, 60]}, \"yaxis\": {\"autorange\": false, \"range\": [-0.5, 5.5], \"tickfont\": {\"size\": 14}}}}, {\"data\": [{\"marker\": {\"color\": [\"#00FFFF\", \"#969696\", \"#FFFF00\", \"#FFFFCC\", \"#CC99FF\"]}, \"orientation\": \"h\", \"text\": [18.77804514, 21.53625801, 30.0511597, 33.8338632, 35.26447353], \"x\": [18.77804514, 21.53625801, 30.0511597, 33.8338632, 35.26447353], \"y\": [\"Eritrea\", \"South Africa\", \"Swaziland\", \"Lesotho\", \"Zimbabwe\"], \"type\": \"bar\"}], \"layout\": {\"title\": {\"font\": {\"size\": 28}, \"text\": \"Suicide Rates per Country: 2005\"}, \"xaxis\": {\"autorange\": false, \"range\": [0, 60]}, \"yaxis\": {\"autorange\": false, \"range\": [-0.5, 5.5], \"tickfont\": {\"size\": 14}}}}, {\"data\": [{\"marker\": {\"color\": [\"#00FFFF\", \"#969696\", \"#FFFF00\", \"#FFFFCC\", \"#CC99FF\"]}, \"orientation\": \"h\", \"text\": [18.673331100000002, 20.62194814, 29.67377772, 34.08873709, 34.98245868], \"x\": [18.673331100000002, 20.62194814, 29.67377772, 34.08873709, 34.98245868], \"y\": [\"Eritrea\", \"South Africa\", \"Swaziland\", \"Lesotho\", \"Zimbabwe\"], \"type\": \"bar\"}], \"layout\": {\"title\": {\"font\": {\"size\": 28}, \"text\": \"Suicide Rates per Country: 2006\"}, \"xaxis\": {\"autorange\": false, \"range\": [0, 60]}, \"yaxis\": {\"autorange\": false, \"range\": [-0.5, 5.5], \"tickfont\": {\"size\": 14}}}}, {\"data\": [{\"marker\": {\"color\": [\"#00FFFF\", \"#969696\", \"#FFFF00\", \"#FFFFCC\", \"#CC99FF\"]}, \"orientation\": \"h\", \"text\": [18.39634661, 19.17035173, 29.43807473, 34.36853886, 34.55437314], \"x\": [18.39634661, 19.17035173, 29.43807473, 34.36853886, 34.55437314], \"y\": [\"Eritrea\", \"South Africa\", \"Swaziland\", \"Lesotho\", \"Zimbabwe\"], \"type\": \"bar\"}], \"layout\": {\"title\": {\"font\": {\"size\": 28}, \"text\": \"Suicide Rates per Country: 2007\"}, \"xaxis\": {\"autorange\": false, \"range\": [0, 60]}, \"yaxis\": {\"autorange\": false, \"range\": [-0.5, 5.5], \"tickfont\": {\"size\": 14}}}}, {\"data\": [{\"marker\": {\"color\": [\"#969696\", \"#00FFFF\", \"#FFFF00\", \"#CC99FF\", \"#FFFFCC\"]}, \"orientation\": \"h\", \"text\": [17.86706492, 18.11124923, 29.50559115, 34.302704, 35.07352879999999], \"x\": [17.86706492, 18.11124923, 29.50559115, 34.302704, 35.07352879999999], \"y\": [\"South Africa\", \"Eritrea\", \"Swaziland\", \"Zimbabwe\", \"Lesotho\"], \"type\": \"bar\"}], \"layout\": {\"title\": {\"font\": {\"size\": 28}, \"text\": \"Suicide Rates per Country: 2008\"}, \"xaxis\": {\"autorange\": false, \"range\": [0, 60]}, \"yaxis\": {\"autorange\": false, \"range\": [-0.5, 5.5], \"tickfont\": {\"size\": 14}}}}, {\"data\": [{\"marker\": {\"color\": [\"#99CC00\", \"#00FFFF\", \"#FFFF00\", \"#CC99FF\", \"#FFFFCC\"]}, \"orientation\": \"h\", \"text\": [17.49229107, 17.81909636, 29.49728014, 33.61948288, 34.61292606], \"x\": [17.49229107, 17.81909636, 29.49728014, 33.61948288, 34.61292606], \"y\": [\"Mozambique\", \"Eritrea\", \"Swaziland\", \"Zimbabwe\", \"Lesotho\"], \"type\": \"bar\"}], \"layout\": {\"title\": {\"font\": {\"size\": 28}, \"text\": \"Suicide Rates per Country: 2009\"}, \"xaxis\": {\"autorange\": false, \"range\": [0, 60]}, \"yaxis\": {\"autorange\": false, \"range\": [-0.5, 5.5], \"tickfont\": {\"size\": 14}}}}, {\"data\": [{\"marker\": {\"color\": [\"#00FFFF\", \"#99CC00\", \"#FFFF00\", \"#CC99FF\", \"#FFFFCC\"]}, \"orientation\": \"h\", \"text\": [17.60041267, 17.72820416, 29.08235913, 32.36655533, 34.5802612], \"x\": [17.60041267, 17.72820416, 29.08235913, 32.36655533, 34.5802612], \"y\": [\"Eritrea\", \"Mozambique\", \"Swaziland\", \"Zimbabwe\", \"Lesotho\"], \"type\": \"bar\"}], \"layout\": {\"title\": {\"font\": {\"size\": 28}, \"text\": \"Suicide Rates per Country: 2010\"}, \"xaxis\": {\"autorange\": false, \"range\": [0, 60]}, \"yaxis\": {\"autorange\": false, \"range\": [-0.5, 5.5], \"tickfont\": {\"size\": 14}}}}, {\"data\": [{\"marker\": {\"color\": [\"#FF99CC\", \"#99CC00\", \"#FFFF00\", \"#CC99FF\", \"#FFFFCC\"]}, \"orientation\": \"h\", \"text\": [17.47773912, 17.82128512, 28.29651061, 30.68367645, 34.33019893], \"x\": [17.47773912, 17.82128512, 28.29651061, 30.68367645, 34.33019893], \"y\": [\"C. African Rep.\", \"Mozambique\", \"Swaziland\", \"Zimbabwe\", \"Lesotho\"], \"type\": \"bar\"}], \"layout\": {\"title\": {\"font\": {\"size\": 28}, \"text\": \"Suicide Rates per Country: 2011\"}, \"xaxis\": {\"autorange\": false, \"range\": [0, 60]}, \"yaxis\": {\"autorange\": false, \"range\": [-0.5, 5.5], \"tickfont\": {\"size\": 14}}}}, {\"data\": [{\"marker\": {\"color\": [\"#FF99CC\", \"#99CC00\", \"#FFFF00\", \"#CC99FF\", \"#FFFFCC\"]}, \"orientation\": \"h\", \"text\": [17.26263783, 17.86103848, 27.79552479, 29.34589779, 34.52095178], \"x\": [17.26263783, 17.86103848, 27.79552479, 29.34589779, 34.52095178], \"y\": [\"C. African Rep.\", \"Mozambique\", \"Swaziland\", \"Zimbabwe\", \"Lesotho\"], \"type\": \"bar\"}], \"layout\": {\"title\": {\"font\": {\"size\": 28}, \"text\": \"Suicide Rates per Country: 2012\"}, \"xaxis\": {\"autorange\": false, \"range\": [0, 60]}, \"yaxis\": {\"autorange\": false, \"range\": [-0.5, 5.5], \"tickfont\": {\"size\": 14}}}}, {\"data\": [{\"marker\": {\"color\": [\"#FF99CC\", \"#99CC00\", \"#FFFF00\", \"#CC99FF\", \"#FFFFCC\"]}, \"orientation\": \"h\", \"text\": [17.35953253, 17.817887300000002, 27.145653000000003, 28.36120026, 34.71517151], \"x\": [17.35953253, 17.817887300000002, 27.145653000000003, 28.36120026, 34.71517151], \"y\": [\"C. African Rep.\", \"Mozambique\", \"Swaziland\", \"Zimbabwe\", \"Lesotho\"], \"type\": \"bar\"}], \"layout\": {\"title\": {\"font\": {\"size\": 28}, \"text\": \"Suicide Rates per Country: 2013\"}, \"xaxis\": {\"autorange\": false, \"range\": [0, 60]}, \"yaxis\": {\"autorange\": false, \"range\": [-0.5, 5.5], \"tickfont\": {\"size\": 14}}}}, {\"data\": [{\"marker\": {\"color\": [\"#FF99CC\", \"#99CC00\", \"#FFFF00\", \"#CC99FF\", \"#FFFFCC\"]}, \"orientation\": \"h\", \"text\": [17.25218247, 17.72994665, 25.94729276, 27.60554743, 34.59657984], \"x\": [17.25218247, 17.72994665, 25.94729276, 27.60554743, 34.59657984], \"y\": [\"C. African Rep.\", \"Mozambique\", \"Swaziland\", \"Zimbabwe\", \"Lesotho\"], \"type\": \"bar\"}], \"layout\": {\"title\": {\"font\": {\"size\": 28}, \"text\": \"Suicide Rates per Country: 2014\"}, \"xaxis\": {\"autorange\": false, \"range\": [0, 60]}, \"yaxis\": {\"autorange\": false, \"range\": [-0.5, 5.5], \"tickfont\": {\"size\": 14}}}}, {\"data\": [{\"marker\": {\"color\": [\"#FF99CC\", \"#99CC00\", \"#FFFF00\", \"#CC99FF\", \"#FFFFCC\"]}, \"orientation\": \"h\", \"text\": [17.17502716, 17.63780824, 24.70322665, 27.19706124, 34.27652644], \"x\": [17.17502716, 17.63780824, 24.70322665, 27.19706124, 34.27652644], \"y\": [\"C. African Rep.\", \"Mozambique\", \"Swaziland\", \"Zimbabwe\", \"Lesotho\"], \"type\": \"bar\"}], \"layout\": {\"title\": {\"font\": {\"size\": 28}, \"text\": \"Suicide Rates per Country: 2015\"}, \"xaxis\": {\"autorange\": false, \"range\": [0, 60]}, \"yaxis\": {\"autorange\": false, \"range\": [-0.5, 5.5], \"tickfont\": {\"size\": 14}}}}, {\"data\": [{\"marker\": {\"color\": [\"#FF99CC\", \"#99CC00\", \"#FFFF00\", \"#CC99FF\", \"#FFFFCC\"]}, \"orientation\": \"h\", \"text\": [17.05389843, 17.46915357, 23.53412026, 26.83959101, 33.09882905], \"x\": [17.05389843, 17.46915357, 23.53412026, 26.83959101, 33.09882905], \"y\": [\"C. African Rep.\", \"Mozambique\", \"Swaziland\", \"Zimbabwe\", \"Lesotho\"], \"type\": \"bar\"}], \"layout\": {\"title\": {\"font\": {\"size\": 28}, \"text\": \"Suicide Rates per Country: 2016\"}, \"xaxis\": {\"autorange\": false, \"range\": [0, 60]}, \"yaxis\": {\"autorange\": false, \"range\": [-0.5, 5.5], \"tickfont\": {\"size\": 14}}}}, {\"data\": [{\"marker\": {\"color\": [\"#FF99CC\", \"#99CC00\", \"#FFFF00\", \"#CC99FF\", \"#FFFFCC\"]}, \"orientation\": \"h\", \"text\": [16.92689737, 17.20414341, 22.31966302, 26.39176915, 31.71521752], \"x\": [16.92689737, 17.20414341, 22.31966302, 26.39176915, 31.71521752], \"y\": [\"C. African Rep.\", \"Mozambique\", \"Swaziland\", \"Zimbabwe\", \"Lesotho\"], \"type\": \"bar\"}], \"layout\": {\"title\": {\"font\": {\"size\": 28}, \"text\": \"Suicide Rates per Country: 2017\"}, \"xaxis\": {\"autorange\": false, \"range\": [0, 60]}, \"yaxis\": {\"autorange\": false, \"range\": [-0.5, 5.5], \"tickfont\": {\"size\": 14}}}}]);\n",
       "                        }).then(function(){\n",
       "                            \n",
       "var gd = document.getElementById('8a89fee0-384c-422d-8809-a233bfa4a9c4');\n",
       "var x = new MutationObserver(function (mutations, observer) {{\n",
       "        var display = window.getComputedStyle(gd).display;\n",
       "        if (!display || display === 'none') {{\n",
       "            console.log([gd, 'removed!']);\n",
       "            Plotly.purge(gd);\n",
       "            observer.disconnect();\n",
       "        }}\n",
       "}});\n",
       "\n",
       "// Listen for the removal of the full notebook cells\n",
       "var notebookContainer = gd.closest('#notebook-container');\n",
       "if (notebookContainer) {{\n",
       "    x.observe(notebookContainer, {childList: true});\n",
       "}}\n",
       "\n",
       "// Listen for the clearing of the current output cell\n",
       "var outputEl = gd.closest('.output');\n",
       "if (outputEl) {{\n",
       "    x.observe(outputEl, {childList: true});\n",
       "}}\n",
       "\n",
       "                        })                };                });            </script>        </div>"
      ]
     },
     "metadata": {},
     "output_type": "display_data"
    }
   ],
   "source": [
    "## we create one frame and then loop through each key and values of dict to complete the race bar\n",
    "\n",
    "fig = go.Figure(\n",
    "    data=[\n",
    "        go.Bar(\n",
    "        x=n_frame['one']['suicide rate (deaths per 100,000)'], y=n_frame['one']['country'],orientation='h',\n",
    "        text=n_frame['one']['suicide rate (deaths per 100,000)'], texttemplate='%{text:.3s}',\n",
    "        textfont={'size':18}, textposition='inside', insidetextanchor='middle',\n",
    "        width=0.9, marker={'color':n_frame['one']['color_code']})\n",
    "    ],\n",
    "    layout=go.Layout(\n",
    "        xaxis=dict(range=[0, 60], autorange=False, title=dict(text='suicide rate (deaths per 100,000)',font=dict(size=18))),\n",
    "        yaxis=dict(range=[-0.5, 5.5], autorange=False,tickfont=dict(size=14)),\n",
    "        title=dict(text='Suicide Rates per Country: 1990',font=dict(size=28),x=0.5,xanchor='center'),\n",
    "        # Add button\n",
    "        updatemenus=[dict(\n",
    "            type=\"buttons\",\n",
    "            buttons=[dict(label=\"Play\",\n",
    "                          method=\"animate\",\n",
    "                          # https://github.com/plotly/plotly.js/blob/master/src/plots/animation_attributes.js\n",
    "                          args=[None,\n",
    "                          {\"frame\": {\"duration\": 1000, \"redraw\": True},\n",
    "                          \"transition\": {\"duration\":250,\n",
    "                          \"easing\": \"linear\"}}]\n",
    "            )]\n",
    "        )]\n",
    "    ),\n",
    "    frames=[\n",
    "            go.Frame(\n",
    "                data=[\n",
    "                        go.Bar(x=value['suicide rate (deaths per 100,000)'], y=value['country'],\n",
    "                        orientation='h',text=value['suicide rate (deaths per 100,000)'],\n",
    "                        marker={'color':value['color_code']})\n",
    "                    ],\n",
    "                layout=go.Layout(\n",
    "                        xaxis=dict(range=[0, 60], autorange=False),\n",
    "                        yaxis=dict(range=[-0.5, 5.5], autorange=False,tickfont=dict(size=14)),\n",
    "                        title=dict(text='Suicide Rates per Country: '+str(value['year'].values[0]),\n",
    "                        font=dict(size=28))\n",
    "                    )\n",
    "            )\n",
    "        for key, value in n_frame.items()\n",
    "    ]\n",
    ")\n",
    "\n",
    "#-------------------------------------------\n",
    "pio.show(fig)"
   ]
  },
  {
   "cell_type": "code",
   "execution_count": null,
   "metadata": {},
   "outputs": [],
   "source": []
  }
 ],
 "metadata": {
  "kernelspec": {
   "display_name": "Python [conda env:ftrml_milad]",
   "language": "python",
   "name": "conda-env-ftrml_milad-py"
  },
  "language_info": {
   "codemirror_mode": {
    "name": "ipython",
    "version": 3
   },
   "file_extension": ".py",
   "mimetype": "text/x-python",
   "name": "python",
   "nbconvert_exporter": "python",
   "pygments_lexer": "ipython3",
   "version": "3.7.0"
  },
  "toc": {
   "base_numbering": 1,
   "nav_menu": {},
   "number_sections": true,
   "sideBar": true,
   "skip_h1_title": false,
   "title_cell": "Table of Contents",
   "title_sidebar": "Contents",
   "toc_cell": false,
   "toc_position": {},
   "toc_section_display": true,
   "toc_window_display": false
  }
 },
 "nbformat": 4,
 "nbformat_minor": 4
}
