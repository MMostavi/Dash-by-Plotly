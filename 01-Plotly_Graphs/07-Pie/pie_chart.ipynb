{
 "cells": [
  {
   "cell_type": "code",
   "execution_count": 1,
   "metadata": {},
   "outputs": [],
   "source": [
    "# https://plotly.com/python/pie-charts/\n",
    "# https://plotly.com/python-api-reference/generated/plotly.express.pie.html#plotly.express.pie\n",
    "# https://plotly.com/python-api-reference/generated/plotly.graph_objects.Pie.html#plotly.graph_objects.Pie"
   ]
  },
  {
   "cell_type": "code",
   "execution_count": 2,
   "metadata": {},
   "outputs": [],
   "source": [
    "import pandas as pd     #(version 1.0.0)\n",
    "import plotly           #(version 4.5.4) #pip install plotly==4.5.4\n",
    "import plotly.express as px\n",
    "import plotly.io as pio"
   ]
  },
  {
   "cell_type": "code",
   "execution_count": 14,
   "metadata": {},
   "outputs": [
    {
     "data": {
      "text/html": [
       "<div>\n",
       "<style scoped>\n",
       "    .dataframe tbody tr th:only-of-type {\n",
       "        vertical-align: middle;\n",
       "    }\n",
       "\n",
       "    .dataframe tbody tr th {\n",
       "        vertical-align: top;\n",
       "    }\n",
       "\n",
       "    .dataframe thead th {\n",
       "        text-align: right;\n",
       "    }\n",
       "</style>\n",
       "<table border=\"1\" class=\"dataframe\">\n",
       "  <thead>\n",
       "    <tr style=\"text-align: right;\">\n",
       "      <th></th>\n",
       "      <th>date</th>\n",
       "      <th>state</th>\n",
       "      <th>positive</th>\n",
       "      <th>negative</th>\n",
       "      <th>pending</th>\n",
       "      <th>death</th>\n",
       "      <th>total</th>\n",
       "      <th>dateChecked</th>\n",
       "    </tr>\n",
       "  </thead>\n",
       "  <tbody>\n",
       "    <tr>\n",
       "      <th>4</th>\n",
       "      <td>20200317</td>\n",
       "      <td>CA</td>\n",
       "      <td>483.0</td>\n",
       "      <td>7981.0</td>\n",
       "      <td>NaN</td>\n",
       "      <td>11.0</td>\n",
       "      <td>8407.0</td>\n",
       "      <td>2020-03-17 20:00:00+00:00</td>\n",
       "    </tr>\n",
       "    <tr>\n",
       "      <th>9</th>\n",
       "      <td>20200317</td>\n",
       "      <td>FL</td>\n",
       "      <td>186.0</td>\n",
       "      <td>940.0</td>\n",
       "      <td>NaN</td>\n",
       "      <td>6.0</td>\n",
       "      <td>1126.0</td>\n",
       "      <td>2020-03-17 20:00:00+00:00</td>\n",
       "    </tr>\n",
       "    <tr>\n",
       "      <th>34</th>\n",
       "      <td>20200317</td>\n",
       "      <td>NY</td>\n",
       "      <td>1700.0</td>\n",
       "      <td>5506.0</td>\n",
       "      <td>NaN</td>\n",
       "      <td>7.0</td>\n",
       "      <td>7206.0</td>\n",
       "      <td>2020-03-17 20:00:00+00:00</td>\n",
       "    </tr>\n",
       "    <tr>\n",
       "      <th>47</th>\n",
       "      <td>20200317</td>\n",
       "      <td>WA</td>\n",
       "      <td>904.0</td>\n",
       "      <td>11582.0</td>\n",
       "      <td>NaN</td>\n",
       "      <td>48.0</td>\n",
       "      <td>12486.0</td>\n",
       "      <td>2020-03-17 20:00:00+00:00</td>\n",
       "    </tr>\n",
       "  </tbody>\n",
       "</table>\n",
       "</div>"
      ],
      "text/plain": [
       "        date state  positive  negative  pending  death    total  \\\n",
       "4   20200317    CA     483.0    7981.0      NaN   11.0   8407.0   \n",
       "9   20200317    FL     186.0     940.0      NaN    6.0   1126.0   \n",
       "34  20200317    NY    1700.0    5506.0      NaN    7.0   7206.0   \n",
       "47  20200317    WA     904.0   11582.0      NaN   48.0  12486.0   \n",
       "\n",
       "                 dateChecked  \n",
       "4  2020-03-17 20:00:00+00:00  \n",
       "9  2020-03-17 20:00:00+00:00  \n",
       "34 2020-03-17 20:00:00+00:00  \n",
       "47 2020-03-17 20:00:00+00:00  "
      ]
     },
     "execution_count": 14,
     "metadata": {},
     "output_type": "execute_result"
    }
   ],
   "source": [
    "# Filter the data\n",
    "# Data from https://covidtracking.com/api/\n",
    "df = pd.read_csv(\"covid-19-states-daily.csv\")\n",
    "df['dateChecked'] = pd.to_datetime(df['dateChecked'])\n",
    "df = df[df['dateChecked'].dt.date.astype(str) == '2020-03-17']\n",
    "df = df[df['death']>=5]\n",
    "# print (df)\n",
    "df\n",
    "# df.groupby('state')['positive'].plot(kind='scatter')"
   ]
  },
  {
   "cell_type": "code",
   "execution_count": 19,
   "metadata": {},
   "outputs": [
    {
     "data": {
      "application/vnd.plotly.v1+json": {
       "config": {
        "plotlyServerURL": "https://plot.ly"
       },
       "data": [
        {
         "customdata": [
          [
           483,
           "CA"
          ],
          [
           186,
           "FL"
          ],
          [
           1700,
           "NY"
          ],
          [
           904,
           "WA"
          ]
         ],
         "domain": {
          "x": [
           0,
           1
          ],
          "y": [
           0,
           1
          ]
         },
         "hole": 0.5,
         "hovertemplate": "<b>%{hovertext}</b><br><br>the State=%{customdata[1]}<br>death=%{value}<br>positive=%{customdata[0]}<extra></extra>",
         "hovertext": [
          7981,
          940,
          5506,
          11582
         ],
         "labels": [
          "CA",
          "FL",
          "NY",
          "WA"
         ],
         "legendgroup": "",
         "marker": {
          "colors": [
           "red",
           "green",
           "blue",
           "orange"
          ]
         },
         "name": "",
         "showlegend": true,
         "type": "pie",
         "values": [
          11,
          6,
          7,
          48
         ]
        }
       ],
       "layout": {
        "height": 600,
        "legend": {
         "tracegroupgap": 0
        },
        "piecolorway": [
         "red",
         "green",
         "blue",
         "orange"
        ],
        "template": {
         "data": {
          "pie": [
           {
            "automargin": true,
            "type": "pie"
           }
          ],
          "scatter": [
           {
            "line": {
             "width": 3
            },
            "marker": {
             "size": 9
            },
            "type": "scatter"
           }
          ],
          "scatter3d": [
           {
            "line": {
             "width": 3
            },
            "marker": {
             "size": 9
            },
            "type": "scatter3d"
           }
          ],
          "scattergeo": [
           {
            "line": {
             "width": 3
            },
            "marker": {
             "size": 9
            },
            "type": "scattergeo"
           }
          ],
          "scattergl": [
           {
            "line": {
             "width": 3
            },
            "marker": {
             "size": 9
            },
            "type": "scattergl"
           }
          ],
          "scatterpolar": [
           {
            "line": {
             "width": 3
            },
            "marker": {
             "size": 9
            },
            "type": "scatterpolar"
           }
          ],
          "scatterpolargl": [
           {
            "line": {
             "width": 3
            },
            "marker": {
             "size": 9
            },
            "type": "scatterpolargl"
           }
          ],
          "scatterternary": [
           {
            "line": {
             "width": 3
            },
            "marker": {
             "size": 9
            },
            "type": "scatterternary"
           }
          ],
          "table": [
           {
            "cells": {
             "height": 30
            },
            "header": {
             "height": 36
            },
            "type": "table"
           }
          ]
         },
         "layout": {
          "font": {
           "size": 18
          },
          "xaxis": {
           "title": {
            "standoff": 15
           }
          },
          "yaxis": {
           "title": {
            "standoff": 15
           }
          }
         }
        },
        "title": {
         "text": "Coronavirus in the USA"
        },
        "width": 800
       }
      },
      "text/html": [
       "<div>                            <div id=\"34575a76-d719-4f37-8358-b94358c59d09\" class=\"plotly-graph-div\" style=\"height:600px; width:800px;\"></div>            <script type=\"text/javascript\">                require([\"plotly\"], function(Plotly) {                    window.PLOTLYENV=window.PLOTLYENV || {};                                    if (document.getElementById(\"34575a76-d719-4f37-8358-b94358c59d09\")) {                    Plotly.newPlot(                        \"34575a76-d719-4f37-8358-b94358c59d09\",                        [{\"customdata\": [[483.0, \"CA\"], [186.0, \"FL\"], [1700.0, \"NY\"], [904.0, \"WA\"]], \"domain\": {\"x\": [0.0, 1.0], \"y\": [0.0, 1.0]}, \"hole\": 0.5, \"hovertemplate\": \"<b>%{hovertext}</b><br><br>the State=%{customdata[1]}<br>death=%{value}<br>positive=%{customdata[0]}<extra></extra>\", \"hovertext\": [7981.0, 940.0, 5506.0, 11582.0], \"labels\": [\"CA\", \"FL\", \"NY\", \"WA\"], \"legendgroup\": \"\", \"marker\": {\"colors\": [\"red\", \"green\", \"blue\", \"orange\"]}, \"name\": \"\", \"showlegend\": true, \"type\": \"pie\", \"values\": [11.0, 6.0, 7.0, 48.0]}],                        {\"height\": 600, \"legend\": {\"tracegroupgap\": 0}, \"piecolorway\": [\"red\", \"green\", \"blue\", \"orange\"], \"template\": {\"data\": {\"pie\": [{\"automargin\": true, \"type\": \"pie\"}], \"scatter\": [{\"line\": {\"width\": 3}, \"marker\": {\"size\": 9}, \"type\": \"scatter\"}], \"scatter3d\": [{\"line\": {\"width\": 3}, \"marker\": {\"size\": 9}, \"type\": \"scatter3d\"}], \"scattergeo\": [{\"line\": {\"width\": 3}, \"marker\": {\"size\": 9}, \"type\": \"scattergeo\"}], \"scattergl\": [{\"line\": {\"width\": 3}, \"marker\": {\"size\": 9}, \"type\": \"scattergl\"}], \"scatterpolar\": [{\"line\": {\"width\": 3}, \"marker\": {\"size\": 9}, \"type\": \"scatterpolar\"}], \"scatterpolargl\": [{\"line\": {\"width\": 3}, \"marker\": {\"size\": 9}, \"type\": \"scatterpolargl\"}], \"scatterternary\": [{\"line\": {\"width\": 3}, \"marker\": {\"size\": 9}, \"type\": \"scatterternary\"}], \"table\": [{\"cells\": {\"height\": 30}, \"header\": {\"height\": 36}, \"type\": \"table\"}]}, \"layout\": {\"font\": {\"size\": 18}, \"xaxis\": {\"title\": {\"standoff\": 15}}, \"yaxis\": {\"title\": {\"standoff\": 15}}}}, \"title\": {\"text\": \"Coronavirus in the USA\"}, \"width\": 800},                        {\"responsive\": true}                    ).then(function(){\n",
       "                            \n",
       "var gd = document.getElementById('34575a76-d719-4f37-8358-b94358c59d09');\n",
       "var x = new MutationObserver(function (mutations, observer) {{\n",
       "        var display = window.getComputedStyle(gd).display;\n",
       "        if (!display || display === 'none') {{\n",
       "            console.log([gd, 'removed!']);\n",
       "            Plotly.purge(gd);\n",
       "            observer.disconnect();\n",
       "        }}\n",
       "}});\n",
       "\n",
       "// Listen for the removal of the full notebook cells\n",
       "var notebookContainer = gd.closest('#notebook-container');\n",
       "if (notebookContainer) {{\n",
       "    x.observe(notebookContainer, {childList: true});\n",
       "}}\n",
       "\n",
       "// Listen for the clearing of the current output cell\n",
       "var outputEl = gd.closest('.output');\n",
       "if (outputEl) {{\n",
       "    x.observe(outputEl, {childList: true});\n",
       "}}\n",
       "\n",
       "                        })                };                });            </script>        </div>"
      ]
     },
     "metadata": {},
     "output_type": "display_data"
    }
   ],
   "source": [
    "pie_chart = px.pie(\n",
    "        data_frame=df,\n",
    "        values='death',\n",
    "        names='state',\n",
    "        color='state',                      #differentiate markers (discrete) by color\n",
    "        color_discrete_sequence=[\"red\",\"green\",\"blue\",\"orange\"],     #set marker colors\n",
    "        # color_discrete_map={\"WA\":\"yellow\",\"CA\":\"red\",\"NY\":\"black\",\"FL\":\"brown\"},\n",
    "        hover_name='negative',              #values appear in bold in the hover tooltip\n",
    "#         hover_data=['positive'],            #values appear as extra data in the hover tooltip\n",
    "#         custom_data=['total'],              #values are extra data to be used in Dash callbacks\n",
    "        labels={\"state\":\"the State\"},       #map the labels\n",
    "        title='Coronavirus in the USA',     #figure title\n",
    "        template='presentation',            #'ggplot2', 'seaborn', 'simple_white', 'plotly',\n",
    "                                            #'plotly_white', 'plotly_dark', 'presentation',\n",
    "                                            #'xgridoff', 'ygridoff', 'gridon', 'none'\n",
    "        width=800,                          #figure width in pixels\n",
    "        height=600,                         #figure height in pixels\n",
    "        hole=0.5,                           #represents the hole in middle of pie\n",
    "        )\n",
    "\n",
    "# pie_chart.update_traces(textposition='outside', textinfo='percent+label',\n",
    "#                         marker=dict(line=dict(color='#000000', width=4)),\n",
    "#                         pull=[0, 0, 0.2, 0], opacity=0.7, rotation=180)\n",
    "\n",
    "\n",
    "\n",
    "pio.show(pie_chart)\n"
   ]
  },
  {
   "cell_type": "code",
   "execution_count": null,
   "metadata": {},
   "outputs": [],
   "source": []
  }
 ],
 "metadata": {
  "kernelspec": {
   "display_name": "Python [conda env:ftrml_milad]",
   "language": "python",
   "name": "conda-env-ftrml_milad-py"
  },
  "language_info": {
   "codemirror_mode": {
    "name": "ipython",
    "version": 3
   },
   "file_extension": ".py",
   "mimetype": "text/x-python",
   "name": "python",
   "nbconvert_exporter": "python",
   "pygments_lexer": "ipython3",
   "version": "3.7.0"
  },
  "toc": {
   "base_numbering": 1,
   "nav_menu": {},
   "number_sections": true,
   "sideBar": true,
   "skip_h1_title": false,
   "title_cell": "Table of Contents",
   "title_sidebar": "Contents",
   "toc_cell": false,
   "toc_position": {},
   "toc_section_display": true,
   "toc_window_display": false
  }
 },
 "nbformat": 4,
 "nbformat_minor": 4
}
